{
 "cells": [
  {
   "cell_type": "markdown",
   "id": "0cd75157",
   "metadata": {},
   "source": [
    "# Script for single input - single output txn -> Just input the transaction hex and run the cells, the script will calculate the private key for you!"
   ]
  },
  {
   "cell_type": "code",
   "execution_count": 24,
   "id": "1a7c5b11",
   "metadata": {},
   "outputs": [],
   "source": [
    "import embit\n",
    "\n",
    "from binascii import b2a_base64\n",
    "from hashlib import sha256\n",
    "\n",
    "from embit import bip32, compact, ec\n",
    "from embit.bip32 import HDKey\n",
    "from embit.descriptor import Descriptor\n",
    "from embit.networks import NETWORKS\n",
    "from embit.util import secp256k1\n",
    "\n",
    "from embit.util.key import SECP256K1\n",
    "from embit.util import key\n",
    "\n",
    "from blockcypher import get_address_full\n",
    "from blockcypher import get_transaction_details\n",
    "\n",
    "from tinyec.ec import SubGroup, Curve\n",
    "import numpy as np\n",
    "import hashlib\n",
    "import libnum\n",
    "import bech32\n",
    "import binascii\n",
    "import hmac \n",
    "\n",
    "\n",
    "from cryptos import *\n",
    "\n",
    "import ecdsa\n",
    "from ecdsa import SigningKey, SECP256k1\n",
    "import hashlib\n",
    "import base58\n",
    "from ecdsa.util import sigencode_der, sigdecode_der\n",
    "\n",
    "from embit.util import secp256k1\n",
    "from embit.util import py_secp256k1\n",
    "\n",
    "import embit\n",
    "\n",
    "from binascii import b2a_base64\n",
    "from hashlib import sha256\n",
    "\n",
    "from embit import bip32, compact, ec\n",
    "from embit.bip32 import HDKey\n",
    "from embit.descriptor import Descriptor\n",
    "from embit.networks import NETWORKS\n",
    "from embit.util import secp256k1"
   ]
  },
  {
   "cell_type": "markdown",
   "id": "c8b8ba66",
   "metadata": {},
   "source": [
    "## Defining the neccessary functions"
   ]
  },
  {
   "cell_type": "code",
   "execution_count": 25,
   "id": "2b3301db",
   "metadata": {},
   "outputs": [],
   "source": [
    "def double_sha256(data):\n",
    "    \n",
    "    in_bytes = bytes.fromhex(data)\n",
    "    \n",
    "    # First SHA256 hash\n",
    "    first_hash = hashlib.sha256(in_bytes).digest()\n",
    "\n",
    "    # Second SHA256 hash\n",
    "    second_hash = hashlib.sha256(first_hash).digest()\n",
    "\n",
    "    return second_hash.hex()"
   ]
  },
  {
   "cell_type": "code",
   "execution_count": 26,
   "id": "c8620fef",
   "metadata": {},
   "outputs": [],
   "source": [
    "p = 2**256 - 2**32 - 2**9 - 2**8 - 2**7 - 2**6 - 2**4 -1 \n",
    "n = 0xFFFFFFFFFFFFFFFFFFFFFFFFFFFFFFFEBAAEDCE6AF48A03BBFD25E8CD0364141\n",
    "\n",
    "def mod_inv(a,n = p): #Extended Euclidean Algorithm/'division' in elliptic curves\n",
    "    lm, hm = 1,0\n",
    "    low, high = a%n,n\n",
    "    \n",
    "    while low > 1:\n",
    "        ratio = high//low\n",
    "        nm, new = hm-lm*ratio, high-low*ratio\n",
    "        lm, low, hm, high = nm, new, lm, low\n",
    "        \n",
    "    return lm % n"
   ]
  },
  {
   "cell_type": "code",
   "execution_count": 27,
   "id": "8121c232",
   "metadata": {},
   "outputs": [],
   "source": [
    "SECP256K1_ORDER = n = 0xFFFFFFFFFFFFFFFFFFFFFFFFFFFFFFFEBAAEDCE6AF48A03BBFD25E8CD0364141\n",
    "\n",
    "def deterministic_k(secret, z, extra_data=None):\n",
    "    # RFC6979, optimized for secp256k1\n",
    "    k = b\"\\x00\" * 32\n",
    "    v = b\"\\x01\" * 32\n",
    "    if z > SECP256K1_ORDER:\n",
    "        z -= SECP256K1_ORDER\n",
    "    z_bytes = z.to_bytes(32, \"big\")\n",
    "    secret_bytes = secret.to_bytes(32, \"big\") #because sha256(pub_key is always in bytes)\n",
    "    if extra_data is not None:\n",
    "        z_bytes += extra_data\n",
    "    k = hmac.new(k, v + b\"\\x00\" + secret_bytes + z_bytes, \"sha256\").digest()\n",
    "    v = hmac.new(k, v, \"sha256\").digest()\n",
    "    k = hmac.new(k, v + b\"\\x01\" + secret_bytes + z_bytes, \"sha256\").digest()\n",
    "    v = hmac.new(k, v, \"sha256\").digest()\n",
    "    while True:\n",
    "        v = hmac.new(k, v, \"sha256\").digest()\n",
    "        candidate = int.from_bytes(v, \"big\")\n",
    "        if candidate >= 1 and candidate < SECP256K1_ORDER:\n",
    "            return candidate\n",
    "        k = hmac.new(k, v + b\"\\x00\", \"sha256\").digest()\n",
    "        v = hmac.new(k, v, \"sha256\").digest()"
   ]
  },
  {
   "cell_type": "code",
   "execution_count": 28,
   "id": "906038ab",
   "metadata": {},
   "outputs": [],
   "source": [
    "def calc_scriptcode(addr):# calculate segwit input address scriptpubkey \n",
    "    \n",
    "    hrp = addr[0:2]\n",
    "    address_decoded = bech32.decode(hrp, addr)\n",
    "\n",
    "    byte_string = bytes(address_decoded[1])\n",
    "    hex_string = binascii.hexlify(byte_string).decode('utf-8')\n",
    "    scriptpubkey = '19' + '76' + 'a9' + '14' + hex_string + '88' + 'ac' \n",
    "\n",
    "    return scriptpubkey"
   ]
  },
  {
   "cell_type": "code",
   "execution_count": 7,
   "id": "b7cf084c",
   "metadata": {},
   "outputs": [],
   "source": [
    "def calc_amount(val):\n",
    "    amount_sats = val\n",
    "    amount_sats_hex = hex(amount_sats)[2:] \n",
    "\n",
    "\n",
    "    if len(amount_sats_hex) % 2 != 0:\n",
    "        amount_sats_hex = '0' + amount_sats_hex\n",
    "\n",
    "    little_endian_bytes = bytes.fromhex(amount_sats_hex)[::-1]\n",
    "    little_endian_padded = little_endian_bytes.ljust(8, b'\\x00')\n",
    "\n",
    "    amount = little_endian_padded.hex()\n",
    "    \n",
    "    return amount"
   ]
  },
  {
   "cell_type": "code",
   "execution_count": 29,
   "id": "d69757eb",
   "metadata": {},
   "outputs": [],
   "source": [
    "# this function worked fine when tested with this particular txn... \n",
    "def calc_uncompressed_from_compressed(compressed_key):\n",
    "\n",
    "    def pow_mod(x, y, z):\n",
    "        \"Calculate (x ** y) % z efficiently.\"\n",
    "        number = 1\n",
    "        while y:\n",
    "            if y & 1:\n",
    "                number = number * x % z\n",
    "            y >>= 1\n",
    "            x = x * x % z\n",
    "        return number\n",
    "\n",
    "    p = 0xfffffffffffffffffffffffffffffffffffffffffffffffffffffffefffffc2f\n",
    "    #compressed_key = '02581d9dc848fa707abc32329ab44caf5607583ec115664bb9b49ea562651fff71'\n",
    "    y_parity = int(compressed_key[:2]) - 2\n",
    "    x = int(compressed_key[2:], 16)\n",
    "    a = (pow_mod(x, 3, p) + 7) % p\n",
    "    y = pow_mod(a, (p+1)//4, p)\n",
    "    if y % 2 != y_parity:\n",
    "        y = -y % p\n",
    "    uncompressed_key = '04{:x}{:x}'.format(x, y)\n",
    "    \n",
    "    return uncompressed_key"
   ]
  },
  {
   "cell_type": "markdown",
   "id": "e1a6e387",
   "metadata": {},
   "source": [
    "## Fetching neccessary info from BlockCypher API "
   ]
  },
  {
   "cell_type": "code",
   "execution_count": 30,
   "id": "f084dce4",
   "metadata": {},
   "outputs": [
    {
     "name": "stdout",
     "output_type": "stream",
     "text": [
      "d882925ae657bcf2ee252ccfdffdf46fa87309168099af20727ae35833267414\n"
     ]
    }
   ],
   "source": [
    "# input the txn. hash here \n",
    "txn_hash = input(str())"
   ]
  },
  {
   "cell_type": "code",
   "execution_count": 31,
   "id": "f844619d",
   "metadata": {},
   "outputs": [],
   "source": [
    "txn_details = get_transaction_details(txn_hash, include_hex=True)"
   ]
  },
  {
   "cell_type": "code",
   "execution_count": 12,
   "id": "91a934f7",
   "metadata": {},
   "outputs": [
    {
     "data": {
      "text/plain": [
       "{'block_hash': '00000000000000000003cee05b2534d58aba08caf02f8500e77811fa71ec4032',\n",
       " 'block_height': 826395,\n",
       " 'block_index': 2966,\n",
       " 'hash': 'd882925ae657bcf2ee252ccfdffdf46fa87309168099af20727ae35833267414',\n",
       " 'hex': '02000000000101f7237c3a43b1a61da905fec85a3bba53ce0c6fd747168b855cd848ab4a992db30200000000ffffffff016423000000000000160014ffa40104eec28c18911c803f1207f8fb6d993fc80247304402203193c5f490cb13e4c3cb2f6cbbb4d0c6af632ff8efa7ef12dd8bc5249dc5f50f0220334bdf2a3db5f98ae54ddb4bf90e83ff0874c51ed5a3a6b10ad3fddd94ec396f012102581d9dc848fa707abc32329ab44caf5607583ec115664bb9b49ea562651fff7100000000',\n",
       " 'addresses': ['bc1qfmsav54qgj8af49flwaymla7a56nv5gszss2u7',\n",
       "  'bc1ql7jqzp8wc2xp3ygusql3yplcldkej07gk7ga9n'],\n",
       " 'total': 9060,\n",
       " 'fees': 4280,\n",
       " 'size': 191,\n",
       " 'vsize': 110,\n",
       " 'preference': 'low',\n",
       " 'relayed_by': '147.135.136.241:8333',\n",
       " 'confirmed': datetime.datetime(2024, 1, 19, 9, 58, 13, tzinfo=tzutc()),\n",
       " 'received': datetime.datetime(2024, 1, 19, 9, 55, 24, 824000, tzinfo=tzutc()),\n",
       " 'ver': 2,\n",
       " 'double_spend': False,\n",
       " 'vin_sz': 1,\n",
       " 'vout_sz': 1,\n",
       " 'confirmations': 442,\n",
       " 'confidence': 1,\n",
       " 'inputs': [{'prev_hash': 'b32d994aab48d85c858b1647d76f0cce53ba3b5ac8fe05a91da6b1433a7c23f7',\n",
       "   'output_index': 2,\n",
       "   'output_value': 13340,\n",
       "   'sequence': 4294967295,\n",
       "   'addresses': ['bc1qfmsav54qgj8af49flwaymla7a56nv5gszss2u7'],\n",
       "   'script_type': 'pay-to-witness-pubkey-hash',\n",
       "   'age': 815957,\n",
       "   'witness': ['304402203193c5f490cb13e4c3cb2f6cbbb4d0c6af632ff8efa7ef12dd8bc5249dc5f50f0220334bdf2a3db5f98ae54ddb4bf90e83ff0874c51ed5a3a6b10ad3fddd94ec396f01',\n",
       "    '02581d9dc848fa707abc32329ab44caf5607583ec115664bb9b49ea562651fff71']}],\n",
       " 'outputs': [{'value': 9060,\n",
       "   'script': '0014ffa40104eec28c18911c803f1207f8fb6d993fc8',\n",
       "   'addresses': ['bc1ql7jqzp8wc2xp3ygusql3yplcldkej07gk7ga9n'],\n",
       "   'script_type': 'pay-to-witness-pubkey-hash'}]}"
      ]
     },
     "execution_count": 12,
     "metadata": {},
     "output_type": "execute_result"
    }
   ],
   "source": [
    "txn_details"
   ]
  },
  {
   "cell_type": "code",
   "execution_count": 32,
   "id": "1774c83e",
   "metadata": {},
   "outputs": [],
   "source": [
    "# code to remove the unneccessary stuff from txn hex\n",
    "\n",
    "full_txn_details_hex = txn_details['hex']\n",
    "txn_details_hex = full_txn_details_hex[:8]+ full_txn_details_hex[12:160] + full_txn_details_hex[374:]"
   ]
  },
  {
   "cell_type": "code",
   "execution_count": 33,
   "id": "25233844",
   "metadata": {},
   "outputs": [],
   "source": [
    "ver = txn_details_hex[0:8]\n",
    "prevouts = txn_details_hex[10:74] + txn_details_hex[74:82]\n",
    "seq = txn_details_hex[84:92]\n",
    "outpoint = prevouts\n",
    "input_addr = txn_details['inputs'][0]['addresses'][0]\n",
    "\n",
    "scriptcode = calc_scriptcode(input_addr)\n",
    "amount = calc_amount(txn_details['inputs'][0]['output_value']) \n",
    "\n",
    "output = txn_details_hex[94:110] + txn_details_hex[110:112] + txn_details_hex[112:156]\n",
    "locktime = txn_details_hex[-8:] \n",
    "hashtype = '01000000'"
   ]
  },
  {
   "cell_type": "code",
   "execution_count": 34,
   "id": "677a0fe1",
   "metadata": {},
   "outputs": [],
   "source": [
    "prevouts_hash = double_sha256(prevouts)\n",
    "seq_hash = double_sha256(seq)\n",
    "outputs_hash = double_sha256(output)"
   ]
  },
  {
   "cell_type": "code",
   "execution_count": 35,
   "id": "847f6bc9",
   "metadata": {},
   "outputs": [
    {
     "name": "stdout",
     "output_type": "stream",
     "text": [
      "020000005600a8e58a8f4abe6265c31a13b42fda89772d4b7c953d6d39994de9ffb3927f3bb13029ce7b1f559ef5e747fcac439f1455a2ec7c5f09b72290795e70665044f7237c3a43b1a61da905fec85a3bba53ce0c6fd747168b855cd848ab4a992db3020000001976a9144ee1d652a0448fd4d4a9fbba4dffbeed3536511088ac1c34000000000000ffffffff32549df5abff5731231eaad1d373b5808b59820b3c4281cc0dbadc296c6f94700000000001000000\n"
     ]
    }
   ],
   "source": [
    "pre_image = ver + prevouts_hash + seq_hash + outpoint + scriptcode + amount + seq + outputs_hash + locktime + hashtype\n",
    "print(pre_image)"
   ]
  },
  {
   "cell_type": "code",
   "execution_count": 36,
   "id": "aad1862d",
   "metadata": {},
   "outputs": [],
   "source": [
    "pre_image_hash_to_sign = double_sha256(pre_image) \n",
    "pre_image_hash_to_sign_bytes = bytes.fromhex(pre_image_hash_to_sign)\n",
    "\n",
    "msghash = pre_image_hash_to_sign_bytes\n",
    "msghash_int = int.from_bytes(msghash, \"big\")\n",
    "\n",
    "compressed_pub_key = txn_details['inputs'][0]['witness'][1]\n",
    "\n",
    "uncompressed_pub_key = calc_uncompressed_from_compressed(compressed_pub_key)\n",
    "uncompressed_pub_key_bytes = bytes.fromhex(uncompressed_pub_key)\n",
    "\n",
    "pub_hash_int = int.from_bytes(hashlib.sha256(uncompressed_pub_key_bytes).digest(), \"big\")\n",
    "\n",
    "signature = txn_details['inputs'][0]['witness'][0]"
   ]
  },
  {
   "cell_type": "markdown",
   "id": "7ee77fb1",
   "metadata": {},
   "source": [
    "## Private key calculation logic"
   ]
  },
  {
   "cell_type": "code",
   "execution_count": 37,
   "id": "9f3e82ee",
   "metadata": {},
   "outputs": [],
   "source": [
    "r_len = 2*int(signature[6:8], 16)\n",
    "r_hex = signature[8:(8+r_len)]\n",
    "\n",
    "s_len = 2*int(signature[(8+r_len+2):(8+r_len+2+2)], 16)\n",
    "s_hex = signature[(8+r_len+2+2):(8+r_len+2+2+s_len)]"
   ]
  },
  {
   "cell_type": "code",
   "execution_count": 38,
   "id": "91c3b89c",
   "metadata": {},
   "outputs": [],
   "source": [
    "r_int = int(r_hex, 16)\n",
    "s_int = int(s_hex, 16)\n",
    "\n",
    "k = deterministic_k(pub_hash_int, msghash_int) "
   ]
  },
  {
   "cell_type": "code",
   "execution_count": 39,
   "id": "2ad3884a",
   "metadata": {},
   "outputs": [
    {
     "name": "stdout",
     "output_type": "stream",
     "text": [
      "Calculated private key (hex): 0xce1539c8fe4a767d3a82329e806493c8034cd946371103223353ca82605ec51c\n"
     ]
    }
   ],
   "source": [
    "calc_prv = (mod_inv(r_int, n)*(k*s_int - msghash_int)) % n \n",
    "print(\"Calculated private key (hex):\", hex(calc_prv))"
   ]
  }
 ],
 "metadata": {
  "kernelspec": {
   "display_name": "Python 3 (ipykernel)",
   "language": "python",
   "name": "python3"
  },
  "language_info": {
   "codemirror_mode": {
    "name": "ipython",
    "version": 3
   },
   "file_extension": ".py",
   "mimetype": "text/x-python",
   "name": "python",
   "nbconvert_exporter": "python",
   "pygments_lexer": "ipython3",
   "version": "3.9.13"
  }
 },
 "nbformat": 4,
 "nbformat_minor": 5
}
