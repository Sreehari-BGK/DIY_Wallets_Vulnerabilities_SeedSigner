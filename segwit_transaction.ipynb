{
 "cells": [
  {
   "cell_type": "code",
   "execution_count": 1,
   "id": "fa5d2ee6",
   "metadata": {},
   "outputs": [],
   "source": [
    "from blockcypher import get_address_full\n",
    "from blockcypher import get_transaction_details\n",
    "\n",
    "from tinyec.ec import SubGroup, Curve\n",
    "import numpy as np\n",
    "import hashlib\n",
    "import libnum\n",
    "import bech32\n",
    "import binascii\n",
    "\n",
    "from cryptos import *\n",
    "\n",
    "import ecdsa\n",
    "from ecdsa import SigningKey, SECP256k1\n",
    "import hashlib\n",
    "import base58\n",
    "from ecdsa.util import sigencode_der, sigdecode_der\n",
    "\n",
    "from embit.util import secp256k1\n",
    "from embit.util import py_secp256k1"
   ]
  },
  {
   "cell_type": "code",
   "execution_count": 2,
   "id": "85f3433d",
   "metadata": {},
   "outputs": [
    {
     "name": "stdout",
     "output_type": "stream",
     "text": [
      "Collecting embit\n",
      "  Using cached embit-0.7.0-py3-none-any.whl\n",
      "Installing collected packages: embit\n",
      "Successfully installed embit-0.7.0\n"
     ]
    }
   ],
   "source": [
    "!pip install embit "
   ]
  },
  {
   "cell_type": "markdown",
   "id": "271c2342",
   "metadata": {},
   "source": [
    "# SCRIPT TO FETCH ALL INFO FROM BLOCKCYPHER API INSTEAD  OF HARDCODING THE PARAMETERS"
   ]
  },
  {
   "cell_type": "code",
   "execution_count": 2,
   "id": "2d4e196d",
   "metadata": {},
   "outputs": [],
   "source": [
    "txn_details = get_transaction_details('8801efe18da3d4f199a4a4e12450a66c60a60c208f7822701bbc7defb5ef0b0a', include_hex=True)"
   ]
  },
  {
   "cell_type": "code",
   "execution_count": 3,
   "id": "ac5b9842",
   "metadata": {},
   "outputs": [
    {
     "data": {
      "text/plain": [
       "{'block_hash': '00000000000000000001670a0549a38ecf2e51d40936c3cfdc2da4804e7b6e32',\n",
       " 'block_height': 826109,\n",
       " 'block_index': 3931,\n",
       " 'hash': '8801efe18da3d4f199a4a4e12450a66c60a60c208f7822701bbc7defb5ef0b0a',\n",
       " 'hex': '02000000000101524e3e436f25df204ce27899af6ad638b44151bac5c3cf8a6a52116d1d659d8b0000000000ffffffff02e803000000000000160014ffa40104eec28c18911c803f1207f8fb6d993fc819350000000000001600145d50044454d3d18006e71b0da30d5c39b793053f0247304402201626d2d8533e6f3f9150a88e565068037e012ba156ebd376666f05a9da1fb7e702206b37258e900391bc1f104ee4556830730a7d0291c5fb8f52eb15bcbbe9edbd62012103fb561eb15488bc679156766a55b7e6c5a382d6efbfe80cbe6c65ab05e75bc96600000000',\n",
       " 'addresses': ['bc1q8z7vfvl5jk9z0vdckphf6wsdjfce6qhgskp84e',\n",
       "  'bc1ql7jqzp8wc2xp3ygusql3yplcldkej07gk7ga9n',\n",
       "  'bc1qt4gqg3z560gcqph8rvx6xr2u8xmexpfl0mt7mp'],\n",
       " 'total': 14593,\n",
       " 'fees': 6716,\n",
       " 'size': 222,\n",
       " 'vsize': 141,\n",
       " 'preference': 'low',\n",
       " 'relayed_by': '88.198.5.130:8333',\n",
       " 'confirmed': datetime.datetime(2024, 1, 17, 9, 13, 38, tzinfo=tzutc()),\n",
       " 'received': datetime.datetime(2024, 1, 17, 9, 7, 56, 663000, tzinfo=tzutc()),\n",
       " 'ver': 2,\n",
       " 'double_spend': False,\n",
       " 'vin_sz': 1,\n",
       " 'vout_sz': 2,\n",
       " 'confirmations': 112,\n",
       " 'confidence': 1,\n",
       " 'inputs': [{'prev_hash': '8b9d651d6d11526a8acfc3c5ba5141b438d66aaf9978e24c20df256f433e4e52',\n",
       "   'output_index': 0,\n",
       "   'output_value': 21309,\n",
       "   'sequence': 4294967295,\n",
       "   'addresses': ['bc1q8z7vfvl5jk9z0vdckphf6wsdjfce6qhgskp84e'],\n",
       "   'script_type': 'pay-to-witness-pubkey-hash',\n",
       "   'age': 825268,\n",
       "   'witness': ['304402201626d2d8533e6f3f9150a88e565068037e012ba156ebd376666f05a9da1fb7e702206b37258e900391bc1f104ee4556830730a7d0291c5fb8f52eb15bcbbe9edbd6201',\n",
       "    '03fb561eb15488bc679156766a55b7e6c5a382d6efbfe80cbe6c65ab05e75bc966']}],\n",
       " 'outputs': [{'value': 1000,\n",
       "   'script': '0014ffa40104eec28c18911c803f1207f8fb6d993fc8',\n",
       "   'addresses': ['bc1ql7jqzp8wc2xp3ygusql3yplcldkej07gk7ga9n'],\n",
       "   'script_type': 'pay-to-witness-pubkey-hash'},\n",
       "  {'value': 13593,\n",
       "   'script': '00145d50044454d3d18006e71b0da30d5c39b793053f',\n",
       "   'addresses': ['bc1qt4gqg3z560gcqph8rvx6xr2u8xmexpfl0mt7mp'],\n",
       "   'script_type': 'pay-to-witness-pubkey-hash'}]}"
      ]
     },
     "execution_count": 3,
     "metadata": {},
     "output_type": "execute_result"
    }
   ],
   "source": [
    "txn_details"
   ]
  },
  {
   "cell_type": "code",
   "execution_count": 2,
   "id": "74948a94",
   "metadata": {},
   "outputs": [],
   "source": [
    "def double_sha256(data):\n",
    "    \n",
    "    in_bytes = bytes.fromhex(data)\n",
    "    \n",
    "    # First SHA256 hash\n",
    "    first_hash = hashlib.sha256(in_bytes).digest()\n",
    "\n",
    "    # Second SHA256 hash\n",
    "    second_hash = hashlib.sha256(first_hash).digest()\n",
    "\n",
    "    return second_hash.hex()"
   ]
  },
  {
   "cell_type": "markdown",
   "id": "d7168223",
   "metadata": {},
   "source": [
    "# Extracting signature from witness"
   ]
  },
  {
   "cell_type": "code",
   "execution_count": 5,
   "id": "eb910ab5",
   "metadata": {},
   "outputs": [
    {
     "name": "stdout",
     "output_type": "stream",
     "text": [
      "1\n"
     ]
    }
   ],
   "source": [
    "input_num = int(txn_details['hex'][12:14], 16)\n",
    "print(input_num)"
   ]
  },
  {
   "cell_type": "code",
   "execution_count": 6,
   "id": "99c6bc28",
   "metadata": {},
   "outputs": [
    {
     "name": "stdout",
     "output_type": "stream",
     "text": [
      "0x304402201626d2d8533e6f3f9150a88e565068037e012ba156ebd376666f05a9da1fb7e702206b37258e900391bc1f104ee4556830730a7d0291c5fb8f52eb15bcbbe9edbd6201\n"
     ]
    }
   ],
   "source": [
    "sig = txn_details[\"inputs\"][0][\"witness\"][0]\n",
    "sig_hex = hex(int(sig, 16))\n",
    "print(sig_hex)"
   ]
  },
  {
   "cell_type": "markdown",
   "id": "f9e04bb4",
   "metadata": {},
   "source": [
    "# Extracting 'r' and 's' from signature"
   ]
  },
  {
   "cell_type": "code",
   "execution_count": 109,
   "id": "92b02027",
   "metadata": {},
   "outputs": [
    {
     "name": "stdout",
     "output_type": "stream",
     "text": [
      "32\n",
      "1626d2d8533e6f3f9150a88e565068037e012ba156ebd376666f05a9da1fb7e7\n",
      "32\n",
      "6b37258e900391bc1f104ee4556830730a7d0291c5fb8f52eb15bcbbe9edbd62\n"
     ]
    }
   ],
   "source": [
    "r_len = 2*int(sig_hex[8:10], 16)\n",
    "r_end_idx = (10 + r_len)\n",
    "r_ = sig_hex[10:r_end_idx]\n",
    "\n",
    "\n",
    "s_len = 2*int(sig_hex[(r_end_idx + 2):(r_end_idx + 2 + 2)], 16)\n",
    "s_end_idx = (r_end_idx + 2 + 2 + s_len)\n",
    "s_ = sig_hex[(r_end_idx + 2 + 2):s_end_idx]\n",
    "\n",
    "print(int(r_len/2))\n",
    "print(r_)\n",
    "\n",
    "print(int(s_len/2))\n",
    "print(s_)"
   ]
  },
  {
   "cell_type": "markdown",
   "id": "c40b4990",
   "metadata": {},
   "source": [
    "# Creating segwit scriptPubKey "
   ]
  },
  {
   "cell_type": "code",
   "execution_count": 3,
   "id": "0516c2d0",
   "metadata": {},
   "outputs": [],
   "source": [
    "def calc_scriptcode(addr):# calculate segwit input address scriptpubkey \n",
    "\n",
    "#address = txn_details[\"inputs\"][0][\"addresses\"][0]\n",
    "    #address = 'bc1qrkyer6900d99c44jmdrh6f4g3dkjk90zf6ntuy' \n",
    "#address = 'tb1qt9xzu0df95vsfal8eptzyruv4e00k4ty6d8zhh'\n",
    "    hrp = addr[0:2]\n",
    "\n",
    "    address_decoded = bech32.decode(hrp, addr)\n",
    "#address_decoded = segwit_addr.bech32_decode(address)\n",
    "\n",
    "#print(address_decoded[2])\n",
    "#print(address_decoded[2])\n",
    "\n",
    "    byte_string = bytes(address_decoded[1])\n",
    "    hex_string = binascii.hexlify(byte_string).decode('utf-8')\n",
    "    scriptpubkey = '19' + '76' + 'a9' + '14' + hex_string + '88' + 'ac' \n",
    "    \n",
    "    #print(scriptpubkey)\n",
    "    \n",
    "    return scriptpubkey\n",
    "    "
   ]
  },
  {
   "cell_type": "code",
   "execution_count": 8,
   "id": "fd99d2e4",
   "metadata": {},
   "outputs": [
    {
     "data": {
      "text/plain": [
       "'1976a9144ee1d652a0448fd4d4a9fbba4dffbeed3536511088ac'"
      ]
     },
     "execution_count": 8,
     "metadata": {},
     "output_type": "execute_result"
    }
   ],
   "source": [
    "calc_scriptcode('bc1qfmsav54qgj8af49flwaymla7a56nv5gszss2u7')"
   ]
  },
  {
   "cell_type": "code",
   "execution_count": 10,
   "id": "b9011111",
   "metadata": {},
   "outputs": [
    {
     "name": "stdout",
     "output_type": "stream",
     "text": [
      "1976a9141d8991e8af7b4a5c56b2db477d26a88b6d2b15e288ac\n"
     ]
    }
   ],
   "source": [
    "addr = 'bc1qrkyer6900d99c44jmdrh6f4g3dkjk90zf6ntuy'\n",
    "sc = calc_scriptcode(addr)\n",
    "print(sc)"
   ]
  },
  {
   "cell_type": "code",
   "execution_count": 11,
   "id": "569df1cf",
   "metadata": {},
   "outputs": [],
   "source": [
    "# a different version, initial v1\n",
    "# this is for generating script for output\n",
    "\n",
    "#hex_string = binascii.hexlify(byte_string).decode('utf-8')\n",
    "\n",
    "#scriptpubkey = '00' + '14' + hex_string \n",
    "#print(\"address : \", address)\n",
    "#print(\"scriptpubkey : \", scriptpubkey)"
   ]
  },
  {
   "cell_type": "code",
   "execution_count": 12,
   "id": "f6c659a9",
   "metadata": {},
   "outputs": [
    {
     "name": "stdout",
     "output_type": "stream",
     "text": [
      "bc1q6t920vydhzwdvty67dx62vej6v898wc4ly892a\n"
     ]
    }
   ],
   "source": [
    "# code to decode scriptpubkey to address \n",
    "# can use to cross check \n",
    "# this is for output not input \n",
    "\n",
    "spk = binascii.unhexlify('0014d2caa7b08db89cd62c9af34da53332d30e53bb15')\n",
    "version = spk[0] - 0x50 if spk[0] else 0\n",
    "program = spk[2:]\n",
    "print(bech32.encode('bc', version, program))"
   ]
  },
  {
   "cell_type": "markdown",
   "id": "08de5bda",
   "metadata": {},
   "source": [
    "# Creating unsigned transaction\n",
    "\n",
    "## Things we need \n",
    "### 1. Version \n",
    "### 2. Previous transaction ID and the output index (to hash)\n",
    "### 3. Sequence (to hash)\n",
    "### 4. Outpoint"
   ]
  },
  {
   "cell_type": "code",
   "execution_count": 13,
   "id": "1d69fa04",
   "metadata": {},
   "outputs": [
    {
     "name": "stdout",
     "output_type": "stream",
     "text": [
      "02000000\n"
     ]
    }
   ],
   "source": [
    "ver = txn_details['hex'][0:8]\n",
    "print(ver)"
   ]
  },
  {
   "cell_type": "code",
   "execution_count": 14,
   "id": "00eec407",
   "metadata": {},
   "outputs": [
    {
     "name": "stdout",
     "output_type": "stream",
     "text": [
      "524e3e436f25df204ce27899af6ad638b44151bac5c3cf8a6a52116d1d659d8b00000000\n",
      "ffffffff\n",
      "['ffffffff']\n",
      "['524e3e436f25df204ce27899af6ad638b44151bac5c3cf8a6a52116d1d659d8b00000000']\n"
     ]
    }
   ],
   "source": [
    "prev_out_start_idx = 14\n",
    "prev_out_end_idx = prev_out_start_idx + 72 \n",
    "\n",
    "seq_start_idx = prev_out_end_idx + 2\n",
    "seq_end_idx = seq_start_idx + 8 \n",
    "\n",
    "prev_outs_list = []\n",
    "seq_list = []\n",
    "\n",
    "for i in range(input_num):\n",
    "    \n",
    "    # fetching prev. outs and this list will contain outpoints of all segwit inputs\n",
    "    prev_outs_list.append(txn_details['hex'][prev_out_start_idx:prev_out_end_idx]) \n",
    "    \n",
    "    # fetching sequence\n",
    "    seq_list.append(txn_details['hex'][seq_start_idx:seq_end_idx])\n",
    "    \n",
    "    # update indecies\n",
    "    prev_out_start_idx = prev_out_start_idx + 10\n",
    "    prev_out_end_idx = prev_out_start_idx + 72\n",
    "    \n",
    "    seq_start_idx = prev_out_end_idx + 2\n",
    "    seq_end_idx = seq_start_idx + 8    \n",
    "    \n",
    "prev_outs  = ' '.join(prev_outs_list)\n",
    "seq = ' '.join(seq_list)\n",
    "\n",
    "print(prev_outs)\n",
    "print(seq)\n",
    "print(seq_list)\n",
    "print(prev_outs_list)"
   ]
  },
  {
   "cell_type": "code",
   "execution_count": 15,
   "id": "7e9c5b5a",
   "metadata": {},
   "outputs": [
    {
     "name": "stdout",
     "output_type": "stream",
     "text": [
      "06f2b86854f8d3e7d86cb1e39c2b09919adde421fed7a141e6515ffd7f88a684\n",
      "3bb13029ce7b1f559ef5e747fcac439f1455a2ec7c5f09b72290795e70665044\n"
     ]
    }
   ],
   "source": [
    "prev_outs_hash = double_sha256(prev_outs)\n",
    "print(prev_outs_hash)\n",
    "\n",
    "seq_hash = double_sha256(seq)\n",
    "print(seq_hash)"
   ]
  },
  {
   "cell_type": "markdown",
   "id": "7e42d4c8",
   "metadata": {},
   "source": [
    "\n",
    "### 5. scriptPubkey/scriptCode\n",
    "### 6. Amount\n",
    "### 7. Sequence\n",
    "### 8. hashOutputs (amount || scriptPubKey size || scriptPubKey)\n",
    "### 9. LockTime\n",
    "### 10. HashType"
   ]
  },
  {
   "cell_type": "code",
   "execution_count": 16,
   "id": "843eb92a",
   "metadata": {},
   "outputs": [],
   "source": [
    "addr = address = txn_details[\"inputs\"][0][\"addresses\"][0]"
   ]
  },
  {
   "cell_type": "code",
   "execution_count": 11,
   "id": "e1215395",
   "metadata": {},
   "outputs": [
    {
     "data": {
      "text/plain": [
       "'1976a9144ee1d652a0448fd4d4a9fbba4dffbeed3536511088ac'"
      ]
     },
     "execution_count": 11,
     "metadata": {},
     "output_type": "execute_result"
    }
   ],
   "source": [
    "calc_scriptcode('bc1qfmsav54qgj8af49flwaymla7a56nv5gszss2u7')\n"
   ]
  },
  {
   "cell_type": "code",
   "execution_count": 10,
   "id": "7232e6b0",
   "metadata": {},
   "outputs": [
    {
     "data": {
      "text/plain": [
       "'1c34000000000000'"
      ]
     },
     "execution_count": 10,
     "metadata": {},
     "output_type": "execute_result"
    }
   ],
   "source": [
    "calc_amount(13340)"
   ]
  },
  {
   "cell_type": "code",
   "execution_count": 9,
   "id": "26442fac",
   "metadata": {},
   "outputs": [],
   "source": [
    "def calc_amount(val):\n",
    "    amount_sats = val\n",
    "    amount_sats_hex = hex(amount_sats)[2:] \n",
    "\n",
    "\n",
    "    if len(amount_sats_hex) % 2 != 0:\n",
    "        amount_sats_hex = '0' + amount_sats_hex\n",
    "\n",
    "    # Corrected line: remove [2:] before using fromhex()\n",
    "    little_endian_bytes = bytes.fromhex(amount_sats_hex)[::-1]\n",
    "    little_endian_padded = little_endian_bytes.ljust(8, b'\\x00')\n",
    "\n",
    "\n",
    "    # Print the result\n",
    "    amount = little_endian_padded.hex()\n",
    "    \n",
    "    return amount\n",
    "\n"
   ]
  },
  {
   "cell_type": "code",
   "execution_count": 21,
   "id": "e335d3dd",
   "metadata": {},
   "outputs": [
    {
     "name": "stdout",
     "output_type": "stream",
     "text": [
      "1c34000000000000\n",
      "0x1f5\n"
     ]
    }
   ],
   "source": [
    "print(calc_amount(13340))\n",
    "#print('00000080')\n",
    "\n",
    "print(hex(501))\n"
   ]
  },
  {
   "cell_type": "code",
   "execution_count": 22,
   "id": "2e8bc9e5",
   "metadata": {},
   "outputs": [
    {
     "name": "stdout",
     "output_type": "stream",
     "text": [
      "['e803000000000000', '1976a914ffa40104eec28c18911c803f1207f8fb6d993fc888ac', '1935000000000000', '1976a9145d50044454d3d18006e71b0da30d5c39b793053f88ac']\n",
      "e8030000000000001976a914ffa40104eec28c18911c803f1207f8fb6d993fc888ac19350000000000001976a9145d50044454d3d18006e71b0da30d5c39b793053f88ac\n",
      "To hashoutput :  e8030000000000001976a914ffa40104eec28c18911c803f1207f8fb6d993fc888ac19350000000000001976a9145d50044454d3d18006e71b0da30d5c39b793053f88ac\n",
      "hashoutputs  :  dad860a5eede12e4b1e2e5596a2f0d8bfde2afa0448626ab562efde53d98507e\n"
     ]
    }
   ],
   "source": [
    "output_amount = []\n",
    "output_scriptcode = []\n",
    "to_hash_list = []\n",
    "\n",
    "for i in range(len(txn_details[\"outputs\"])):\n",
    "    amount = calc_amount(txn_details[\"outputs\"][i]['value'])\n",
    "    output_amount.append(amount)\n",
    "    \n",
    "    scriptcode = calc_scriptcode(txn_details[\"outputs\"][i][\"addresses\"][0])\n",
    "    output_scriptcode.append(scriptcode)\n",
    "                                 \n",
    "    to_hash_list.append(amount)\n",
    "    to_hash_list.append(scriptcode)\n",
    "    \n",
    "\n",
    "print(to_hash_list)\n",
    "to_hash = ''.join(to_hash_list)\n",
    "\n",
    "print(to_hash)\n",
    "to_hashoutputs = to_hash\n",
    "\n",
    "hashoutputs = sha256(to_hashoutputs)\n",
    "\n",
    "print(\"To hashoutput : \", to_hashoutputs)\n",
    "print(\"hashoutputs  : \", hashoutputs)"
   ]
  },
  {
   "cell_type": "code",
   "execution_count": 23,
   "id": "e437a3b7",
   "metadata": {},
   "outputs": [],
   "source": [
    "locktime = txn_details['hex'][-8:]\n",
    "sighash = '01000000'"
   ]
  },
  {
   "cell_type": "markdown",
   "id": "8c61b6c6",
   "metadata": {},
   "source": [
    "# Serializing and hashing"
   ]
  },
  {
   "cell_type": "code",
   "execution_count": 27,
   "id": "2433dda5",
   "metadata": {},
   "outputs": [],
   "source": [
    "unsigned_txn_1 = ver + prev_outs_hash  + seq_hash  + prev_outs_list[0]  + scriptcode  + amount  + seq  + hashoutputs  + locktime + sighash"
   ]
  },
  {
   "cell_type": "code",
   "execution_count": 28,
   "id": "1f4adb1e",
   "metadata": {},
   "outputs": [
    {
     "name": "stdout",
     "output_type": "stream",
     "text": [
      "0200000006f2b86854f8d3e7d86cb1e39c2b09919adde421fed7a141e6515ffd7f88a6843bb13029ce7b1f559ef5e747fcac439f1455a2ec7c5f09b72290795e70665044524e3e436f25df204ce27899af6ad638b44151bac5c3cf8a6a52116d1d659d8b000000001976a9145d50044454d3d18006e71b0da30d5c39b793053f88ac1935000000000000ffffffffdad860a5eede12e4b1e2e5596a2f0d8bfde2afa0448626ab562efde53d98507e0000000001000000\n"
     ]
    }
   ],
   "source": [
    "print(unsigned_txn_1)"
   ]
  },
  {
   "cell_type": "code",
   "execution_count": 29,
   "id": "ddb320ba",
   "metadata": {},
   "outputs": [
    {
     "name": "stdout",
     "output_type": "stream",
     "text": [
      "9a0d8763bd0bd251683a3f06fdef9eb3981cba86afafc072d635f1cf3f13b160\n"
     ]
    }
   ],
   "source": [
    "# hashing z \n",
    "z = double_sha256(unsigned_txn_1)\n",
    "print(z)"
   ]
  },
  {
   "cell_type": "code",
   "execution_count": 30,
   "id": "6ebcf661",
   "metadata": {},
   "outputs": [
    {
     "data": {
      "text/plain": [
       "'0000008000000000'"
      ]
     },
     "execution_count": 30,
     "metadata": {},
     "output_type": "execute_result"
    }
   ],
   "source": [
    "calc_amount(2147483648)"
   ]
  },
  {
   "cell_type": "markdown",
   "id": "ea15ec70",
   "metadata": {},
   "source": [
    "#  Testing "
   ]
  },
  {
   "cell_type": "code",
   "execution_count": 158,
   "id": "a4bd3127",
   "metadata": {},
   "outputs": [],
   "source": [
    "txn_details = get_transaction_details('8801efe18da3d4f199a4a4e12450a66c60a60c208f7822701bbc7defb5ef0b0a', include_hex=True)"
   ]
  },
  {
   "cell_type": "code",
   "execution_count": 32,
   "id": "1394a845",
   "metadata": {},
   "outputs": [
    {
     "name": "stdout",
     "output_type": "stream",
     "text": [
      "Original Hex: aa103ef423d7fef0539001670011c9f583d2c76e3fdfa9e2965f5d050afd1235\n",
      "Reversed Bytes: b'5\\x12\\xfd\\n\\x05]_\\x96\\xe2\\xa9\\xdf?n\\xc7\\xd2\\x83\\xf5\\xc9\\x11\\x00g\\x01\\x90S\\xf0\\xfe\\xd7#\\xf4>\\x10\\xaa'\n",
      "Reversed Hex: 3512fd0a055d5f96e2a9df3f6ec7d283f5c9110067019053f0fed723f43e10aa\n"
     ]
    }
   ],
   "source": [
    "# Input hex string\n",
    "hex_input = 'aa103ef423d7fef0539001670011c9f583d2c76e3fdfa9e2965f5d050afd1235'\n",
    "\n",
    "# Convert hex string to bytes\n",
    "bytes_data = bytes.fromhex(hex_input)\n",
    "\n",
    "# Reverse the bytes\n",
    "reversed_bytes = bytes_data[::-1]\n",
    "\n",
    "# Convert reversed bytes back to hex\n",
    "hex_output = reversed_bytes.hex()\n",
    "\n",
    "# Print the results\n",
    "print(\"Original Hex:\", hex_input)\n",
    "print(\"Reversed Bytes:\", reversed_bytes)\n",
    "print(\"Reversed Hex:\", hex_output)\n"
   ]
  },
  {
   "cell_type": "code",
   "execution_count": 159,
   "id": "0f23c82b",
   "metadata": {},
   "outputs": [
    {
     "data": {
      "text/plain": [
       "{'block_hash': '00000000000000000001670a0549a38ecf2e51d40936c3cfdc2da4804e7b6e32',\n",
       " 'block_height': 826109,\n",
       " 'block_index': 3931,\n",
       " 'hash': '8801efe18da3d4f199a4a4e12450a66c60a60c208f7822701bbc7defb5ef0b0a',\n",
       " 'hex': '02000000000101524e3e436f25df204ce27899af6ad638b44151bac5c3cf8a6a52116d1d659d8b0000000000ffffffff02e803000000000000160014ffa40104eec28c18911c803f1207f8fb6d993fc819350000000000001600145d50044454d3d18006e71b0da30d5c39b793053f0247304402201626d2d8533e6f3f9150a88e565068037e012ba156ebd376666f05a9da1fb7e702206b37258e900391bc1f104ee4556830730a7d0291c5fb8f52eb15bcbbe9edbd62012103fb561eb15488bc679156766a55b7e6c5a382d6efbfe80cbe6c65ab05e75bc96600000000',\n",
       " 'addresses': ['bc1q8z7vfvl5jk9z0vdckphf6wsdjfce6qhgskp84e',\n",
       "  'bc1ql7jqzp8wc2xp3ygusql3yplcldkej07gk7ga9n',\n",
       "  'bc1qt4gqg3z560gcqph8rvx6xr2u8xmexpfl0mt7mp'],\n",
       " 'total': 14593,\n",
       " 'fees': 6716,\n",
       " 'size': 222,\n",
       " 'vsize': 141,\n",
       " 'preference': 'low',\n",
       " 'relayed_by': '88.198.5.130:8333',\n",
       " 'confirmed': datetime.datetime(2024, 1, 17, 9, 13, 38, tzinfo=tzutc()),\n",
       " 'received': datetime.datetime(2024, 1, 17, 9, 7, 56, 663000, tzinfo=tzutc()),\n",
       " 'ver': 2,\n",
       " 'double_spend': False,\n",
       " 'vin_sz': 1,\n",
       " 'vout_sz': 2,\n",
       " 'confirmations': 125,\n",
       " 'confidence': 1,\n",
       " 'inputs': [{'prev_hash': '8b9d651d6d11526a8acfc3c5ba5141b438d66aaf9978e24c20df256f433e4e52',\n",
       "   'output_index': 0,\n",
       "   'output_value': 21309,\n",
       "   'sequence': 4294967295,\n",
       "   'addresses': ['bc1q8z7vfvl5jk9z0vdckphf6wsdjfce6qhgskp84e'],\n",
       "   'script_type': 'pay-to-witness-pubkey-hash',\n",
       "   'age': 825268,\n",
       "   'witness': ['304402201626d2d8533e6f3f9150a88e565068037e012ba156ebd376666f05a9da1fb7e702206b37258e900391bc1f104ee4556830730a7d0291c5fb8f52eb15bcbbe9edbd6201',\n",
       "    '03fb561eb15488bc679156766a55b7e6c5a382d6efbfe80cbe6c65ab05e75bc966']}],\n",
       " 'outputs': [{'value': 1000,\n",
       "   'script': '0014ffa40104eec28c18911c803f1207f8fb6d993fc8',\n",
       "   'addresses': ['bc1ql7jqzp8wc2xp3ygusql3yplcldkej07gk7ga9n'],\n",
       "   'script_type': 'pay-to-witness-pubkey-hash'},\n",
       "  {'value': 13593,\n",
       "   'script': '00145d50044454d3d18006e71b0da30d5c39b793053f',\n",
       "   'addresses': ['bc1qt4gqg3z560gcqph8rvx6xr2u8xmexpfl0mt7mp'],\n",
       "   'script_type': 'pay-to-witness-pubkey-hash'}]}"
      ]
     },
     "execution_count": 159,
     "metadata": {},
     "output_type": "execute_result"
    }
   ],
   "source": [
    "txn_details"
   ]
  },
  {
   "cell_type": "code",
   "execution_count": 148,
   "id": "e004ed6d",
   "metadata": {},
   "outputs": [
    {
     "data": {
      "text/plain": [
       "'5424000000000000'"
      ]
     },
     "execution_count": 148,
     "metadata": {},
     "output_type": "execute_result"
    }
   ],
   "source": [
    "calc_amount(9300)"
   ]
  },
  {
   "cell_type": "code",
   "execution_count": 160,
   "id": "e927e227",
   "metadata": {},
   "outputs": [
    {
     "name": "stdout",
     "output_type": "stream",
     "text": [
      "Inputs : 1\n",
      "Signature : 304402201626d2d8533e6f3f9150a88e565068037e012ba156ebd376666f05a9da1fb7e702206b37258e900391bc1f104ee4556830730a7d0291c5fb8f52eb15bcbbe9edbd6201\n",
      "Length 'r' : 32\n",
      "r : 1626d2d8533e6f3f9150a88e565068037e012ba156ebd376666f05a9da1fb7e7\n",
      "Length 's' : 32\n",
      "s : 6b37258e900391bc1f104ee4556830730a7d0291c5fb8f52eb15bcbbe9edbd62\n"
     ]
    }
   ],
   "source": [
    "input_num = int(txn_details['hex'][12:14], 16)\n",
    "print(\"Inputs :\", input_num)\n",
    "\n",
    "sig = txn_details[\"inputs\"][0][\"witness\"][0]\n",
    "sig_hex = hex(int(sig, 16))\n",
    "print(\"Signature :\", sig_hex[2:])\n",
    "\n",
    "r_len = 2*int(sig_hex[8:10], 16)\n",
    "r_end_idx = (10 + r_len)\n",
    "r_ = sig_hex[10:r_end_idx]\n",
    "\n",
    "\n",
    "s_len = 2*int(sig_hex[(r_end_idx + 2):(r_end_idx + 2 + 2)], 16)\n",
    "s_end_idx = (r_end_idx + 2 + 2 + s_len)\n",
    "s_ = sig_hex[(r_end_idx + 2 + 2):s_end_idx]\n",
    "\n",
    "print(\"Length 'r' :\", int(r_len/2))\n",
    "print(\"r :\", r_)\n",
    "\n",
    "print(\"Length 's' :\",int(s_len/2))\n",
    "print(\"s :\", s_)"
   ]
  },
  {
   "cell_type": "code",
   "execution_count": 161,
   "id": "a25f06bb",
   "metadata": {},
   "outputs": [
    {
     "name": "stdout",
     "output_type": "stream",
     "text": [
      "02000000\n",
      "Prevouts : 524e3e436f25df204ce27899af6ad638b44151bac5c3cf8a6a52116d1d659d8b00000000\n",
      "Sequence : ffffffff\n",
      "Prevouts hash  : 06f2b86854f8d3e7d86cb1e39c2b09919adde421fed7a141e6515ffd7f88a684\n",
      "Sequence hash : 3bb13029ce7b1f559ef5e747fcac439f1455a2ec7c5f09b72290795e70665044\n"
     ]
    }
   ],
   "source": [
    "ver = txn_details['hex'][0:8]\n",
    "print(ver)\n",
    "\n",
    "prev_out_start_idx = 14\n",
    "prev_out_end_idx = prev_out_start_idx + 72 \n",
    "\n",
    "seq_start_idx = prev_out_end_idx + 2\n",
    "seq_end_idx = seq_start_idx + 8 \n",
    "\n",
    "prev_outs_list = []\n",
    "seq_list = []\n",
    "\n",
    "for i in range(input_num):\n",
    "    \n",
    "    # fetching prev. outs and this list will contain outpoints of all segwit inputs\n",
    "    prev_outs_list.append(txn_details['hex'][prev_out_start_idx:prev_out_end_idx]) \n",
    "    \n",
    "    # fetching sequence\n",
    "    seq_list.append(txn_details['hex'][seq_start_idx:seq_end_idx])\n",
    "    \n",
    "    # update indecies\n",
    "    prev_out_start_idx = prev_out_start_idx + 10\n",
    "    prev_out_end_idx = prev_out_start_idx + 72\n",
    "    \n",
    "    seq_start_idx = prev_out_end_idx + 2\n",
    "    seq_end_idx = seq_start_idx + 8    \n",
    "    \n",
    "prev_outs  = ' '.join(prev_outs_list)\n",
    "seq = ' '.join(seq_list)\n",
    "\n",
    "\n",
    "print(\"Prevouts :\", prev_outs)\n",
    "print(\"Sequence :\" ,seq)\n",
    "#print(prev_outs_list)\n",
    "#print(seq_list)\n",
    "\n",
    "prev_outs_hash = double_sha256(prev_outs)\n",
    "print(\"Prevouts hash  :\", prev_outs_hash)\n",
    "\n",
    "seq_hash = double_sha256(seq)\n",
    "print(\"Sequence hash :\", seq_hash)\n",
    "\n",
    "#print(double_sha256('fff7f7881a8099afa6940d42d1e7f6362bec38171ea3edf433541db4e4ad969f00000000ef51e1b804cc89d182d279655c3aa89e815b1b309fe287d9b2b55d57b90ec68a01000000'))"
   ]
  },
  {
   "cell_type": "code",
   "execution_count": 162,
   "id": "7b7341a0",
   "metadata": {},
   "outputs": [
    {
     "name": "stdout",
     "output_type": "stream",
     "text": [
      "Address : bc1q8z7vfvl5jk9z0vdckphf6wsdjfce6qhgskp84e\n",
      "Calculates script code: 1976a91438bcc4b3f4958a27b1b8b06e9d3a0d92719d02e888ac\n",
      "['e803000000000000', '160014ffa40104eec28c18911c803f1207f8fb6d993fc8', '1935000000000000', '1600145d50044454d3d18006e71b0da30d5c39b793053f']\n",
      "e803000000000000160014ffa40104eec28c18911c803f1207f8fb6d993fc819350000000000001600145d50044454d3d18006e71b0da30d5c39b793053f\n",
      "To hashoutput :  e803000000000000160014ffa40104eec28c18911c803f1207f8fb6d993fc819350000000000001600145d50044454d3d18006e71b0da30d5c39b793053f\n",
      "hashoutputs  :  9e573421d9f32fc4f9997b707ddac0dd74d506a5295ab4c57af4608e29a0ae18\n",
      "Locktime 00000000\n",
      "Sighash : 01000000\n",
      "Amount 3d53000000000000\n",
      "1976a91438bcc4b3f4958a27b1b8b06e9d3a0d92719d02e888ac\n",
      "28fddca5e7a484719bd96ac94c68c388bb02733166ec667b01988f56e1e78aa2\n"
     ]
    }
   ],
   "source": [
    "addr = address = txn_details[\"inputs\"][0][\"addresses\"][0]\n",
    "#addr = 'tb1qt9xzu0df95vsfal8eptzyruv4e00k4ty6d8zhh'\n",
    "print(\"Address :\", addr)\n",
    "\n",
    "scriptcode = calc_scriptcode(addr)\n",
    "print(\"Calculates script code:\", scriptcode)\n",
    "\n",
    "# write a loop to fetch all vals and keep it in a list or include this within the upper loop itself\n",
    "\n",
    "output_amount = []\n",
    "output_scriptcode = []\n",
    "to_hash_list = []\n",
    "\n",
    "for i in range(len(txn_details[\"outputs\"])):\n",
    "    amount = calc_amount(txn_details[\"outputs\"][i]['value'])\n",
    "    output_amount.append(amount)\n",
    "    \n",
    "    scriptcode_ = '16' + '00' + calc_scriptcode(txn_details[\"outputs\"][i][\"addresses\"][0])[6:][:-4]\n",
    "    output_scriptcode.append(scriptcode_)\n",
    "                                 \n",
    "    to_hash_list.append(amount)\n",
    "    to_hash_list.append(scriptcode_)\n",
    "    \n",
    "\n",
    "\n",
    "to_hash = ''.join(to_hash_list)\n",
    "to_hashoutputs = to_hash\n",
    "\n",
    "print(to_hash_list)\n",
    "\n",
    "print(to_hashoutputs)\n",
    "hashoutputs = double_sha256(to_hashoutputs)\n",
    "\n",
    "print(\"To hashoutput : \", to_hashoutputs)\n",
    "print(\"hashoutputs  : \", hashoutputs)\n",
    "\n",
    "locktime = txn_details['hex'][-8:]\n",
    "print(\"Locktime\", locktime)\n",
    "\n",
    "sighash = '01000000'\n",
    "print(\"Sighash :\", sighash)\n",
    "\n",
    "amount = calc_amount(txn_details['inputs'][0]['output_value'])\n",
    "print('Amount', amount)\n",
    "\n",
    "print(scriptcode)\n",
    "print('28fddca5e7a484719bd96ac94c68c388bb02733166ec667b01988f56e1e78aa2')\n"
   ]
  },
  {
   "cell_type": "code",
   "execution_count": 171,
   "id": "dd8506c5",
   "metadata": {},
   "outputs": [
    {
     "data": {
      "text/plain": [
       "'b927000000000000'"
      ]
     },
     "execution_count": 171,
     "metadata": {},
     "output_type": "execute_result"
    }
   ],
   "source": [
    "calc_scriptcode('bc1qfmsav54qgj8af49flwaymla7a56nv5gszss2u7')\n",
    "calc_amount( 10169)"
   ]
  },
  {
   "cell_type": "code",
   "execution_count": 163,
   "id": "79ae0830",
   "metadata": {},
   "outputs": [
    {
     "name": "stdout",
     "output_type": "stream",
     "text": [
      "nVersion: 02000000\n",
      "hashPrevouts: 06f2b86854f8d3e7d86cb1e39c2b09919adde421fed7a141e6515ffd7f88a684\n",
      "hashSequence: 3bb13029ce7b1f559ef5e747fcac439f1455a2ec7c5f09b72290795e70665044\n",
      "outpoint: 524e3e436f25df204ce27899af6ad638b44151bac5c3cf8a6a52116d1d659d8b00000000\n",
      "scriptCode: 1976a91438bcc4b3f4958a27b1b8b06e9d3a0d92719d02e888ac\n",
      "amount: 3d53000000000000\n",
      "nSequence: ffffffff\n",
      "hashOutputs: 9e573421d9f32fc4f9997b707ddac0dd74d506a5295ab4c57af4608e29a0ae18\n",
      "nLockTime: 00000000\n",
      "nHashType: 01000000\n"
     ]
    }
   ],
   "source": [
    "print('nVersion:', ver)\n",
    "print('hashPrevouts:', prev_outs_hash)\n",
    "print('hashSequence:', seq_hash)\n",
    "print('outpoint:', prev_outs_list[0])\n",
    "print('scriptCode:', scriptcode)\n",
    "print('amount:', amount)\n",
    "print('nSequence:', seq)\n",
    "print('hashOutputs:', hashoutputs)\n",
    "print('nLockTime:', locktime)\n",
    "print('nHashType:', sighash)"
   ]
  },
  {
   "cell_type": "code",
   "execution_count": 164,
   "id": "56e35927",
   "metadata": {},
   "outputs": [],
   "source": [
    "unsigned_txn_1 = ver + prev_outs_hash + seq_hash + prev_outs_list[0] + scriptcode + amount + seq + hashoutputs + locktime + sighash"
   ]
  },
  {
   "cell_type": "code",
   "execution_count": 165,
   "id": "c8aa143f",
   "metadata": {},
   "outputs": [
    {
     "name": "stdout",
     "output_type": "stream",
     "text": [
      "Pre image : 0200000006f2b86854f8d3e7d86cb1e39c2b09919adde421fed7a141e6515ffd7f88a6843bb13029ce7b1f559ef5e747fcac439f1455a2ec7c5f09b72290795e70665044524e3e436f25df204ce27899af6ad638b44151bac5c3cf8a6a52116d1d659d8b000000001976a91438bcc4b3f4958a27b1b8b06e9d3a0d92719d02e888ac3d53000000000000ffffffff9e573421d9f32fc4f9997b707ddac0dd74d506a5295ab4c57af4608e29a0ae180000000001000000\n"
     ]
    }
   ],
   "source": [
    "print(\"Pre image :\", unsigned_txn_1)\n",
    "#0fee8ffb18a6e9315ea86a907fbde2b79257ed69beb878c753271aea94314613"
   ]
  },
  {
   "cell_type": "code",
   "execution_count": 166,
   "id": "5f3f9b94",
   "metadata": {},
   "outputs": [
    {
     "name": "stdout",
     "output_type": "stream",
     "text": [
      "Double hash of preimage : 988553b59f8f4befa0b4132cebeb1862f5055fae8cf63350c31437e6867d2e56\n"
     ]
    }
   ],
   "source": [
    "unsigned_txn_hash = double_sha256(unsigned_txn_1)\n",
    "print(\"Double hash of preimage :\", unsigned_txn_hash)"
   ]
  },
  {
   "cell_type": "code",
   "execution_count": 80,
   "id": "7cbb9223",
   "metadata": {},
   "outputs": [
    {
     "name": "stdout",
     "output_type": "stream",
     "text": [
      "Private key : 7df92bb9fca8cda5ed1fcbf1667515f026777414b2fdafddcf3115af5594e804\n"
     ]
    }
   ],
   "source": [
    "def decode_wif(wif_key):\n",
    "    decoded_key = base58.b58decode(wif_key).hex()\n",
    "    private_key_hex = decoded_key[2:-10]  # Remove version byte and checksum\n",
    "    return private_key_hex\n",
    "\n",
    "priv_key_wif = 'L1SaySfsFuEK9mHLLdcd9ygkqE5PenfbW6z9B6EuLR7CJ5ZWmkeU'\n",
    "priv_key_hex = decode_wif(priv_key_wif)\n",
    "\n",
    "\n",
    "\n",
    "# Ensure the private key has the correct length\n",
    "if len(priv_key_hex) != 64:\n",
    "    priv_key_hex = priv_key_hex.zfill(64)\n",
    "\n",
    "print(\"Private key :\", priv_key_hex)"
   ]
  },
  {
   "cell_type": "code",
   "execution_count": 81,
   "id": "87378931",
   "metadata": {},
   "outputs": [
    {
     "name": "stdout",
     "output_type": "stream",
     "text": [
      "02000000\n",
      "06f2b86854f8d3e7d86cb1e39c2b09919adde421fed7a141e6515ffd7f88a684\n",
      "3bb13029ce7b1f559ef5e747fcac439f1455a2ec7c5f09b72290795e70665044\n",
      "524e3e436f25df204ce27899af6ad638b44151bac5c3cf8a6a52116d1d659d8b00000000\n",
      "1976a91438bcc4b3f4958a27b1b8b06e9d3a0d92719d02e888ac\n",
      "3d53000000000000\n",
      "ffffffff\n",
      "9e573421d9f32fc4f9997b707ddac0dd74d506a5295ab4c57af4608e29a0ae18\n",
      "00000000\n",
      "01000000\n"
     ]
    }
   ],
   "source": [
    "print(ver)\n",
    "print(prev_outs_hash)\n",
    "print(seq_hash)\n",
    "print(prev_outs_list[0])\n",
    "print(scriptcode)\n",
    "print(amount)\n",
    "print(seq)\n",
    "print(hashoutputs)\n",
    "print(locktime)\n",
    "print(sighash)"
   ]
  },
  {
   "cell_type": "markdown",
   "id": "6748c211",
   "metadata": {},
   "source": [
    "# Altered deterministic 'k' function and signing "
   ]
  },
  {
   "cell_type": "code",
   "execution_count": 82,
   "id": "55357dd8",
   "metadata": {},
   "outputs": [],
   "source": [
    "import embit\n",
    "\n",
    "from binascii import b2a_base64\n",
    "from hashlib import sha256\n",
    "\n",
    "from embit import bip32, compact, ec\n",
    "from embit.bip32 import HDKey\n",
    "from embit.descriptor import Descriptor\n",
    "from embit.networks import NETWORKS\n",
    "from embit.util import secp256k1"
   ]
  },
  {
   "cell_type": "code",
   "execution_count": 97,
   "id": "c6e12321",
   "metadata": {},
   "outputs": [],
   "source": [
    "def const_k_sig(z, pvt_key, pub_hash_k = None , z_int = None):\n",
    "    p = 2**256 - 2**32 - 2**9 - 2**8 - 2**7 - 2**6 - 2**4 -1                               # proven prime number  \n",
    "    n = 0xFFFFFFFFFFFFFFFFFFFFFFFFFFFFFFFEBAAEDCE6AF48A03BBFD25E8CD0364141                 # number of points in the curve/field\n",
    "    a, b = 0, 7                                                                            # y^2 = x^3 + ax + b -> secpk256k1 curve \n",
    "\n",
    "    g_x = 55066263022277343669578718895168534326250603453777594175500187360389116729240 \n",
    "    g_y = 32670510020758816978083085130507043184471273380659243275938904335757337482424\n",
    "    generator_pt = (g_x, g_y)                                                              # generator point \n",
    "\n",
    "    #all the required functions \n",
    "    def mod_inv(a,n = p): #Extended Euclidean Algorithm/'division' in elliptic curves\n",
    "        lm, hm = 1,0\n",
    "        low, high = a%n,n\n",
    "        while low > 1:\n",
    "            ratio = high//low\n",
    "            nm, new = hm-lm*ratio, high-low*ratio\n",
    "            lm, low, hm, high = nm, new, lm, low\n",
    "        return lm % n\n",
    "\n",
    "    def point_double(pt):\n",
    "        lam = ((3*pt[0]**2 + a) * mod_inv(2*pt[1], p)) % p\n",
    "    \n",
    "        x = (lam**2 - 2*pt[0]) % p \n",
    "        y = (lam*(pt[0] - x) - pt[1]) % p\n",
    "    \n",
    "        return (x, y)\n",
    "\n",
    "\n",
    "    def point_add(pt1, pt2):\n",
    "        lam = ((pt2[1] - pt1[1]) * mod_inv((pt2[0] - pt1[0]), p)) % p\n",
    "    \n",
    "        x = (lam**2 - pt1[0] - pt2[0]) % p\n",
    "        y = (lam*(pt1[0] - x) - pt1[1]) % p \n",
    "    \n",
    "        return (x, y)\n",
    "\n",
    "\n",
    "    # function to produce pub key from pvt key and generator pt \n",
    "    def point_mul(generator_pt, pvt_key_hex):\n",
    "        if pvt_key_hex  == 0 or  pvt_key_hex >= n:\n",
    "            raise Exception(\"Invalid Key\")\n",
    "        \n",
    "        # pvt key in hex to binary \n",
    "        pvt_key_bin = str(bin(pvt_key_hex))[2:]\n",
    "        r = generator_pt\n",
    "    \n",
    "        for i in range(1, len(pvt_key_bin)):\n",
    "            # point double the pt for every bit in the pvt key in binary \n",
    "            r = point_double(r)\n",
    "        \n",
    "            # if bit = 1, then both point double & point add\n",
    "            if pvt_key_bin[i] == '1':\n",
    "                r = point_add(r, generator_pt)\n",
    "            \n",
    "            # return this new pt 'r' which is the pub key || pub key = pvt key * generator pt       \n",
    "        \n",
    "        return r  \n",
    "\n",
    "    # defining constants\n",
    "    pub_key = point_mul(generator_pt, int.from_bytes(pvt_key, 'big'))    # uncompressed pub key, i.e, the product of point mul\n",
    "    print(pub_key)\n",
    "    \n",
    "    k = deterministic_k(int(pub_hash_k), z_int)\n",
    "    #k = 3\n",
    "    \n",
    "    g = generator_pt\n",
    "    x_r, y_r = point_mul(g, k)\n",
    "    \n",
    "    r = x_r % n\n",
    "    z = int.from_bytes(z[:32], 'big')\n",
    "    s = (((z + x_r*int.from_bytes(pvt_key, 'big')) % n) * mod_inv(k, n)) % n    # regular math\n",
    "\n",
    "    return r.to_bytes(32, \"little\") + s.to_bytes(32, \"little\")"
   ]
  },
  {
   "cell_type": "code",
   "execution_count": 84,
   "id": "e710af68",
   "metadata": {},
   "outputs": [
    {
     "name": "stdout",
     "output_type": "stream",
     "text": [
      "b':\\x11)\\x8f{\\xf6\\x16\\x05\\xc6t\\nD\\xac\\xedA\\xa5G\\x06\\x92\\x98\\xa0\\xc9q\\xd7\\xa0\\xfdi\\xc3\\xc09Z!\\xaf;l\\x93~p\\n3dW\\xed\\xd6zn\\xac\\xeei(%\\x90\\x820J\\xd8\\xad\\xec\\xb1\\xa2V\\x07\\x81\\xa9'\n"
     ]
    }
   ],
   "source": [
    "bip39_seed = '3a11298f7bf61605c6740a44aced41a547069298a0c971d7a0fd69c3c0395a21af3b6c937e700a336457edd67a6eacee6928259082304ad8adecb1a2560781a9'\n",
    "bip39_seed_bytes = bytes.fromhex(bip39_seed)\n",
    "\n",
    "print(bip39_seed_bytes)"
   ]
  },
  {
   "cell_type": "code",
   "execution_count": 85,
   "id": "5397a239",
   "metadata": {},
   "outputs": [],
   "source": [
    "embit_network = 'main'\n",
    "derivation = \"m/84'/0'/0'/0/9\""
   ]
  },
  {
   "cell_type": "code",
   "execution_count": 86,
   "id": "015100e8",
   "metadata": {},
   "outputs": [],
   "source": [
    "seed_bytes = bip39_seed_bytes\n",
    "root = bip32.HDKey.from_seed(seed_bytes, version=NETWORKS[embit_network][\"xprv\"])\n",
    "prv = root.derive(derivation).key"
   ]
  },
  {
   "cell_type": "code",
   "execution_count": 87,
   "id": "af85c816",
   "metadata": {},
   "outputs": [
    {
     "name": "stdout",
     "output_type": "stream",
     "text": [
      "Private key : L1SaySfsFuEK9mHLLdcd9ygkqE5PenfbW6z9B6EuLR7CJ5ZWmkeU\n",
      "Public key : 03fb561eb15488bc679156766a55b7e6c5a382d6efbfe80cbe6c65ab05e75bc966\n",
      "Public key hash : fde86c7b6f53c3902a844c9ff4117aae215394bd7b63cba0becfe808ee448a15\n"
     ]
    }
   ],
   "source": [
    "prv_bytes = prv.secret    # prv.secret by default is in bytes we'll be passing this as i/p to our signing function \n",
    "pub = prv.get_public_key()\n",
    "#pub = py_secp256k1.ec_pubkey_create(prv._secret)\n",
    "pub_str = str(pub)\n",
    "pub_bytes = bytes.fromhex(pub_str)\n",
    "#pub_hash = hashlib.sha256(pub).digest().hex()\n",
    "\n",
    "pub_hash = sha256(pub_bytes).digest().hex()  # we'll be using this to replace private key while generating deterministic 'k'\n",
    "\n",
    "\n",
    "#pub_key_hash = sha256(pub)\n",
    "#print(pub_hex)\n",
    "\n",
    "print(\"Private key :\", prv)\n",
    "print(\"Public key :\", pub)\n",
    "print(\"Public key hash :\", pub_hash) "
   ]
  },
  {
   "cell_type": "code",
   "execution_count": 79,
   "id": "abe6155d",
   "metadata": {},
   "outputs": [
    {
     "name": "stdout",
     "output_type": "stream",
     "text": [
      "b'}\\xf9+\\xb9\\xfc\\xa8\\xcd\\xa5\\xed\\x1f\\xcb\\xf1fu\\x15\\xf0&wt\\x14\\xb2\\xfd\\xaf\\xdd\\xcf1\\x15\\xafU\\x94\\xe8\\x04'\n"
     ]
    }
   ],
   "source": [
    "print(prv_bytes)"
   ]
  },
  {
   "cell_type": "code",
   "execution_count": 77,
   "id": "1bb78ea7",
   "metadata": {},
   "outputs": [
    {
     "data": {
      "text/plain": [
       "'ed8f0b81790d8b3f786887748bd54943dc10be2b3a68607cac87f7c2a8ad51de'"
      ]
     },
     "execution_count": 77,
     "metadata": {},
     "output_type": "execute_result"
    }
   ],
   "source": [
    "hashlib.sha256(py_secp256k1.ec_pubkey_create(prv._secret)).digest().hex()"
   ]
  },
  {
   "cell_type": "code",
   "execution_count": 70,
   "id": "774ae4d4",
   "metadata": {},
   "outputs": [
    {
     "data": {
      "text/plain": [
       "'f0705a928f3bc2bf8ac1efd488df745814c5e473827752765cedfbcffcbbf9a5873cfdc717e33d506c0a35c170a8184d263af4524237df4e38d015b07dfa4267'"
      ]
     },
     "execution_count": 70,
     "metadata": {},
     "output_type": "execute_result"
    }
   ],
   "source": [
    "py_secp256k1.ec_pubkey_create(bytes.fromhex('efd228cd9aa02c990409be22cbe9c194b1848cbbf6c36269b107ce9fa6807b12')).hex()"
   ]
  },
  {
   "cell_type": "code",
   "execution_count": 101,
   "id": "1b7059ba",
   "metadata": {},
   "outputs": [
    {
     "name": "stdout",
     "output_type": "stream",
     "text": [
      "100557765549653634707878779641659417603050102636040280366749842585400482959341\n"
     ]
    }
   ],
   "source": [
    "pub_hash = int.from_bytes(hashlib.sha256(py_secp256k1.ec_pubkey_create(prv._secret)).digest(), 'little')\n",
    "print(pub_hash)"
   ]
  },
  {
   "cell_type": "code",
   "execution_count": 77,
   "id": "0eb04b7b",
   "metadata": {},
   "outputs": [
    {
     "data": {
      "text/plain": [
       "b'f\\xc9[\\xe7\\x05\\xabel\\xbe\\x0c\\xe8\\xbf\\xef\\xd6\\x82\\xa3\\xc5\\xe6\\xb7UjvV\\x91g\\xbc\\x88T\\xb1\\x1eV\\xfb\\x15b\\xf86\\xc7Z\\xf1\\x0f\\xc7\\xaeMP\\xca\\xba{u\\x1dM\\xb0]\\xdc \\x99b\\xdb\\xa2rz\\xe1\\xaaBN'"
      ]
     },
     "execution_count": 77,
     "metadata": {},
     "output_type": "execute_result"
    }
   ],
   "source": [
    "bytes.fromhex(py_secp256k1.ec_pubkey_create(prv._secret).hex())"
   ]
  },
  {
   "cell_type": "code",
   "execution_count": 98,
   "id": "6a89a3b8",
   "metadata": {},
   "outputs": [],
   "source": [
    "import hmac \n",
    "\n",
    "SECP256K1_ORDER = n = 0xFFFFFFFFFFFFFFFFFFFFFFFFFFFFFFFEBAAEDCE6AF48A03BBFD25E8CD0364141\n",
    "\n",
    "def deterministic_k(secret, z, extra_data=None):\n",
    "    # RFC6979, optimized for secp256k1\n",
    "    k = b\"\\x00\" * 32\n",
    "    v = b\"\\x01\" * 32\n",
    "    if z > SECP256K1_ORDER:\n",
    "        z -= SECP256K1_ORDER\n",
    "    z_bytes = z.to_bytes(32, \"big\")\n",
    "    secret_bytes = secret.to_bytes(32, \"big\") #because sha256(pub_key is always in bytes)\n",
    "    if extra_data is not None:\n",
    "        z_bytes += extra_data\n",
    "    k = hmac.new(k, v + b\"\\x00\" + secret_bytes + z_bytes, \"sha256\").digest()\n",
    "    v = hmac.new(k, v, \"sha256\").digest()\n",
    "    k = hmac.new(k, v + b\"\\x01\" + secret_bytes + z_bytes, \"sha256\").digest()\n",
    "    v = hmac.new(k, v, \"sha256\").digest()\n",
    "    while True:\n",
    "        v = hmac.new(k, v, \"sha256\").digest()\n",
    "        candidate = int.from_bytes(v, \"big\")\n",
    "        if candidate >= 1 and candidate < SECP256K1_ORDER:\n",
    "            return candidate\n",
    "        k = hmac.new(k, v + b\"\\x00\", \"sha256\").digest()\n",
    "        v = hmac.new(k, v, \"sha256\").digest()"
   ]
  },
  {
   "cell_type": "code",
   "execution_count": 104,
   "id": "c32c7816",
   "metadata": {},
   "outputs": [],
   "source": [
    "pub_hash_bytes =  bytes.fromhex(pub_hash) # pub hash in bytes will be going in the 'k' deterministic function \n",
    "\n",
    "pre_image_hash = '988553b59f8f4befa0b4132cebeb1862f5055fae8cf63350c31437e6867d2e56'\n",
    "pre_image_hash_bytes = bytes.fromhex(pre_image_hash)    # we'll be passing this as input to the signing function\n",
    "\n",
    "pre_image_hash_int = int.from_bytes(pre_image_hash_bytes, \"big\") # this will be going as digest to the det 'k' same function"
   ]
  },
  {
   "cell_type": "code",
   "execution_count": 105,
   "id": "b24cdd20",
   "metadata": {},
   "outputs": [
    {
     "name": "stdout",
     "output_type": "stream",
     "text": [
      "91286349473670812610449901780980074302206045927493130326279076863825416091182\n"
     ]
    }
   ],
   "source": [
    "k = deterministic_k(int.from_bytes(prv_bytes, 'big'), pre_image_hash_int)\n",
    "print(k)"
   ]
  },
  {
   "cell_type": "code",
   "execution_count": 119,
   "id": "14b713e6",
   "metadata": {},
   "outputs": [],
   "source": [
    "prv_int = int.from_bytes(prv_bytes, 'big')\n",
    "\n",
    "pub_hash_int = int.from_bytes(pub_hash_bytes, 'big')\n",
    "\n",
    "\n",
    "signature = '304402201626d2d8533e6f3f9150a88e565068037e012ba156ebd376666f05a9da1fb7e702206b37258e900391bc1f104ee4556830730a7d0291c5fb8f52eb15bcbbe9edbd6201'\n",
    "\n",
    "r_len = 2*int(signature[6:8], 16)\n",
    "r_hex = signature[8:(8+r_len)]\n",
    "\n",
    "s_len = 2*int(signature[(8+r_len+2):(8+r_len+2+2)], 16)\n",
    "s_hex = signature[(8+r_len+2+2):(8+r_len+2+2+s_len)]\n",
    "\n",
    "r_int = int(r_hex, 16)\n",
    "s_int = int(s_hex, 16)\n",
    "\n",
    "k = deterministic_k(prv_int, pre_image_hash_int)\n",
    "\n",
    "\n",
    "\n",
    "#sig = const_k_sig(pre_image_hash_bytes, prv_bytes, prv_int, pre_image_hash_int)\n",
    "\n",
    "\n",
    "\n",
    "#r_bytes = sig[:32]\n",
    "#s_bytes = sig[32:64]\n",
    "#print(sig)\n",
    "\n",
    "#r_int = int.from_bytes(r_bytes, 'little')\n",
    "#s_int = int.from_bytes(s_bytes, 'little')\n",
    "\n",
    "#k = deterministic_k(prv_int, pre_image_hash_int)\n",
    "#print(k)"
   ]
  },
  {
   "cell_type": "code",
   "execution_count": 110,
   "id": "2ff5e556",
   "metadata": {},
   "outputs": [
    {
     "data": {
      "text/plain": [
       "b'\\xe3\\xaa`\\xb9K\\xc3\\xfb3\\x0e\\xb8$\\xb7&\\xc6C\\xe3d\\xc9\\x06\\xaa\\xfc)\\x84a\\xa7\\xf1\\xe6\\x83\\xb9\\xbb\\x0bP:=\\xed\\xeb\\xa4\\x1a\\x97@\\x85\\xf3\\xdd \\xe2\\xced\\xb12\\x00WT\\xd0\\xcd#7n\\xb8\\x98b\\xe1\\x05\\x9e\\x95'"
      ]
     },
     "execution_count": 110,
     "metadata": {},
     "output_type": "execute_result"
    }
   ],
   "source": [
    "sig"
   ]
  },
  {
   "cell_type": "code",
   "execution_count": 150,
   "id": "a6409447",
   "metadata": {},
   "outputs": [
    {
     "name": "stdout",
     "output_type": "stream",
     "text": [
      "115792089237316195423570985008687907852837564279074904382605163141518161494337\n"
     ]
    }
   ],
   "source": [
    "print(0xFFFFFFFFFFFFFFFFFFFFFFFFFFFFFFFEBAAEDCE6AF48A03BBFD25E8CD0364141)"
   ]
  },
  {
   "cell_type": "code",
   "execution_count": 151,
   "id": "e533f82c",
   "metadata": {},
   "outputs": [
    {
     "data": {
      "text/plain": [
       "True"
      ]
     },
     "execution_count": 151,
     "metadata": {},
     "output_type": "execute_result"
    }
   ],
   "source": [
    "int.from_bytes(pub_hash_bytes, \"big\") < SECP256K1_ORDER"
   ]
  },
  {
   "cell_type": "markdown",
   "id": "c1d46182",
   "metadata": {},
   "source": [
    "# Calculating private key from signature "
   ]
  },
  {
   "cell_type": "code",
   "execution_count": 116,
   "id": "e51e7129",
   "metadata": {},
   "outputs": [],
   "source": [
    "p = 2**256 - 2**32 - 2**9 - 2**8 - 2**7 - 2**6 - 2**4 -1 \n",
    "\n",
    "def mod_inv(a,n = p): #Extended Euclidean Algorithm/'division' in elliptic curves\n",
    "    lm, hm = 1,0\n",
    "    low, high = a%n,n\n",
    "    \n",
    "    while low > 1:\n",
    "        ratio = high//low\n",
    "        nm, new = hm-lm*ratio, high-low*ratio\n",
    "        lm, low, hm, high = nm, new, lm, low\n",
    "        \n",
    "    return lm % n"
   ]
  },
  {
   "cell_type": "markdown",
   "id": "19dc96d9",
   "metadata": {},
   "source": [
    "### This is how 's' is calculated \n",
    "s = (((z + x_r*int.from_bytes(pvt_key, 'big')) % n) * mod_inv(k, n)) % n    `# regular math"
   ]
  },
  {
   "cell_type": "code",
   "execution_count": 120,
   "id": "589c8abd",
   "metadata": {},
   "outputs": [],
   "source": [
    "# to calculate pvt. key we already know r, s and k \n",
    "calc_prv = (mod_inv(r_int, n)*(k*s_int - pre_image_hash_int)) % n "
   ]
  },
  {
   "cell_type": "code",
   "execution_count": 121,
   "id": "b91ecbeb",
   "metadata": {},
   "outputs": [
    {
     "name": "stdout",
     "output_type": "stream",
     "text": [
      "0x9979a5494da74d35e2bf075bb4bbda2ecb0e08c94cfb22499330ee3d73383846\n",
      "7df92bb9fca8cda5ed1fcbf1667515f026777414b2fdafddcf3115af5594e804\n",
      "False\n"
     ]
    }
   ],
   "source": [
    "calc_prv_hex = hex(calc_prv)\n",
    "print(calc_prv_hex)\n",
    "print(priv_key_hex)\n",
    "\n",
    "print(calc_prv_hex[2:] == priv_key_hex)"
   ]
  },
  {
   "cell_type": "code",
   "execution_count": 97,
   "id": "23a2dfc8",
   "metadata": {},
   "outputs": [
    {
     "name": "stdout",
     "output_type": "stream",
     "text": [
      "b'}\\xf9+\\xb9\\xfc\\xa8\\xcd\\xa5\\xed\\x1f\\xcb\\xf1fu\\x15\\xf0&wt\\x14\\xb2\\xfd\\xaf\\xdd\\xcf1\\x15\\xafU\\x94\\xe8\\x04'\n"
     ]
    }
   ],
   "source": [
    "print(prv_bytes)"
   ]
  },
  {
   "cell_type": "code",
   "execution_count": 98,
   "id": "60a4e672",
   "metadata": {},
   "outputs": [
    {
     "name": "stdout",
     "output_type": "stream",
     "text": [
      "b'}\\x0fL\\x10\\xbc\\x97\\xde\\x10:\\x98;\\x83\\x8ak\\xb5\\xdb\\x8b\\xe2\\xee\\xa2m\\x80\\xdc3K\\xe2CX\\x84\\r9\\xe1\\xad\\xfd\\xe9\\xa9*\\x1f\\rq\\xbe3\\xd4\\xad\\xe0j\\xc5s3H\\\\\\xafj\\xb4\\x8c\\xf4\\xac\\x0b\\xf5\\x15\\xf7\\xf0\\xea*\\x00'\n"
     ]
    }
   ],
   "source": [
    "original_sig_seedsigner_sig = secp256k1.ecdsa_sign_recoverable(pre_image_hash_bytes, prv_bytes) \n",
    "print(original_sig_seedsigner_sig)"
   ]
  },
  {
   "cell_type": "code",
   "execution_count": 195,
   "id": "2059dea5",
   "metadata": {},
   "outputs": [
    {
     "name": "stdout",
     "output_type": "stream",
     "text": [
      "128\n"
     ]
    }
   ],
   "source": [
    "pub = py_secp256k1.ec_pubkey_create(prv._secret)\n",
    "print(len(pub.hex()))"
   ]
  },
  {
   "cell_type": "code",
   "execution_count": 196,
   "id": "6fcfca96",
   "metadata": {},
   "outputs": [
    {
     "name": "stdout",
     "output_type": "stream",
     "text": [
      "346598286f5a0a3a2b7f42ac31dab9bd9dee3d30db1f970cda6dd5059935d6da\n",
      "(75072862377745462948128548761028566339551352998868500282649073297423951622384, 46706564135475779232138557665644278139383549497825509258258125466601992830087)\n",
      "False\n"
     ]
    },
    {
     "ename": "ValueError",
     "evalue": "Failed to recover public key",
     "output_type": "error",
     "traceback": [
      "\u001b[1;31m---------------------------------------------------------------------------\u001b[0m",
      "\u001b[1;31mValueError\u001b[0m                                Traceback (most recent call last)",
      "\u001b[1;32m~\\AppData\\Local\\Temp\\ipykernel_20988\\4143127317.py\u001b[0m in \u001b[0;36m<module>\u001b[1;34m\u001b[0m\n\u001b[0;32m     13\u001b[0m \u001b[1;33m\u001b[0m\u001b[0m\n\u001b[0;32m     14\u001b[0m \u001b[1;32mfor\u001b[0m \u001b[0mi\u001b[0m \u001b[1;32min\u001b[0m \u001b[0mrange\u001b[0m\u001b[1;33m(\u001b[0m\u001b[1;36m4\u001b[0m\u001b[1;33m)\u001b[0m\u001b[1;33m:\u001b[0m\u001b[1;33m\u001b[0m\u001b[1;33m\u001b[0m\u001b[0m\n\u001b[1;32m---> 15\u001b[1;33m     \u001b[1;32mif\u001b[0m \u001b[0mpy_secp256k1\u001b[0m\u001b[1;33m.\u001b[0m\u001b[0mecdsa_recover\u001b[0m\u001b[1;33m(\u001b[0m\u001b[0msig\u001b[0m \u001b[1;33m+\u001b[0m \u001b[0mbytes\u001b[0m\u001b[1;33m(\u001b[0m\u001b[1;33m[\u001b[0m\u001b[0mi\u001b[0m\u001b[1;33m]\u001b[0m\u001b[1;33m)\u001b[0m\u001b[1;33m,\u001b[0m \u001b[0mpre_image_hash_bytes\u001b[0m\u001b[1;33m)\u001b[0m \u001b[1;33m==\u001b[0m \u001b[0mpub\u001b[0m\u001b[1;33m:\u001b[0m\u001b[1;33m\u001b[0m\u001b[1;33m\u001b[0m\u001b[0m\n\u001b[0m\u001b[0;32m     16\u001b[0m         \u001b[0msig\u001b[0m \u001b[1;33m=\u001b[0m \u001b[0msig\u001b[0m \u001b[1;33m+\u001b[0m \u001b[0mbytes\u001b[0m\u001b[1;33m(\u001b[0m\u001b[1;33m[\u001b[0m\u001b[0mi\u001b[0m\u001b[1;33m]\u001b[0m\u001b[1;33m)\u001b[0m\u001b[1;33m\u001b[0m\u001b[1;33m\u001b[0m\u001b[0m\n\u001b[0;32m     17\u001b[0m         \u001b[1;32mbreak\u001b[0m\u001b[1;33m\u001b[0m\u001b[1;33m\u001b[0m\u001b[0m\n",
      "\u001b[1;32m~\\anaconda3\\lib\\site-packages\\embit\\util\\py_secp256k1.py\u001b[0m in \u001b[0;36mecdsa_recover\u001b[1;34m(sig, msghash, context)\u001b[0m\n\u001b[0;32m    375\u001b[0m         \u001b[1;32mraise\u001b[0m \u001b[0mValueError\u001b[0m\u001b[1;33m(\u001b[0m\u001b[1;34m\"Failed to recover public key\"\u001b[0m\u001b[1;33m)\u001b[0m\u001b[1;33m\u001b[0m\u001b[1;33m\u001b[0m\u001b[0m\n\u001b[0;32m    376\u001b[0m     \u001b[1;32mif\u001b[0m \u001b[1;32mnot\u001b[0m \u001b[0mecdsa_verify\u001b[0m\u001b[1;33m(\u001b[0m\u001b[0msig\u001b[0m\u001b[1;33m[\u001b[0m\u001b[1;33m:\u001b[0m\u001b[1;36m64\u001b[0m\u001b[1;33m]\u001b[0m\u001b[1;33m,\u001b[0m \u001b[0mmsghash\u001b[0m\u001b[1;33m,\u001b[0m \u001b[0mresult\u001b[0m\u001b[1;33m)\u001b[0m\u001b[1;33m:\u001b[0m\u001b[1;33m\u001b[0m\u001b[1;33m\u001b[0m\u001b[0m\n\u001b[1;32m--> 377\u001b[1;33m         \u001b[1;32mraise\u001b[0m \u001b[0mValueError\u001b[0m\u001b[1;33m(\u001b[0m\u001b[1;34m\"Failed to recover public key\"\u001b[0m\u001b[1;33m)\u001b[0m\u001b[1;33m\u001b[0m\u001b[1;33m\u001b[0m\u001b[0m\n\u001b[0m\u001b[0;32m    378\u001b[0m     \u001b[1;32mreturn\u001b[0m \u001b[0mresult\u001b[0m\u001b[1;33m\u001b[0m\u001b[1;33m\u001b[0m\u001b[0m\n",
      "\u001b[1;31mValueError\u001b[0m: Failed to recover public key"
     ]
    }
   ],
   "source": [
    "print(pub_hash_bytes.hex())\n",
    "\n",
    "sig = const_k_sig(pre_image_hash_bytes, prv_bytes, pub_hash_bytes, pre_image_hash_int)\n",
    "#print(sig)\n",
    "\n",
    "pub = py_secp256k1.ec_pubkey_create(prv._secret)\n",
    "lk = py_secp256k1.ecdsa_verify(sig, pre_image_hash_bytes, pub)\n",
    "print(lk)\n",
    "\n",
    "#print(sig.hex())\n",
    "\n",
    "\n",
    "\n",
    "for i in range(4):\n",
    "    if py_secp256k1.ecdsa_recover(sig + bytes([i]), pre_image_hash_bytes) == pub:\n",
    "        sig = sig + bytes([i])\n",
    "        break\n",
    "    \n",
    "malicious_sig = sig\n",
    "#print(malicious_sig)\n",
    "    \n",
    "#print(original_sig_seedsigner_sig == malicious_sig)\n",
    "#"
   ]
  },
  {
   "cell_type": "code",
   "execution_count": 197,
   "id": "325c77be",
   "metadata": {},
   "outputs": [],
   "source": [
    "r_int = int.from_bytes(sig[:32], \"big\")\n",
    "s_int = int.from_bytes(sig[:32], \"big\")\n"
   ]
  },
  {
   "cell_type": "code",
   "execution_count": 158,
   "id": "e76491b4",
   "metadata": {},
   "outputs": [
    {
     "data": {
      "text/plain": [
       "19733093509415893865808793833768214963321975555026301162357824588355781975809"
      ]
     },
     "execution_count": 158,
     "metadata": {},
     "output_type": "execute_result"
    }
   ],
   "source": [
    "deterministic_k(prv_bytes, msghash_int)"
   ]
  },
  {
   "cell_type": "code",
   "execution_count": 159,
   "id": "e6da809f",
   "metadata": {},
   "outputs": [],
   "source": [
    "msghash = pre_image_hash_bytes"
   ]
  },
  {
   "cell_type": "code",
   "execution_count": 179,
   "id": "cb576d1e",
   "metadata": {},
   "outputs": [
    {
     "name": "stdout",
     "output_type": "stream",
     "text": [
      "(75072862377745462948128548761028566339551352998868500282649073297423951622384, 46706564135475779232138557665644278139383549497825509258258125466601992830087)\n",
      "b'\\xe7\\x95\\xf9\\xa8\\xcc\\xb1\\xb4<+\\xf2\\x9e\\x86\\xdfS\\xdb\\xc7\\x16i\\xf29Mk?\\xc0\\xeb2\\x9f)\\x86\\xc6\\xbb2\\xb7\\x8bE2k\\x82\"\\xeb\\xf8\\x9f\\xfa\\xffa\\xa8;\\x91\\x0c\\x94\\xf3z\\x8ah\\x12\\xf36\\xfd7\\x04\\x9b\\xfb\\xa5I'\n",
      "64\n"
     ]
    }
   ],
   "source": [
    " ## add a malicious signing logic\n",
    "prv_bytes = prv.secret    # prv.secret by default is in bytes we'll be passing this as i/p to our signing function \n",
    "pub = prv.get_public_key()\n",
    "pub_str = str(pub)\n",
    "pub_bytes = bytes.fromhex(pub_str)\n",
    "\n",
    "pub_hash = sha256(pub_bytes).digest().hex()\n",
    "pub_hash_bytes = bytes.fromhex(pub_hash) # pub hash in bytes will be going in the 'k' deterministic function \n",
    "\n",
    "msghash_int = int.from_bytes(msghash, \"big\")\n",
    "\n",
    "sig = const_k_sig(msghash, prv_bytes, prv_bytes, msghash_int)\n",
    "pub = py_secp256k1.ec_pubkey_create(prv._secret)\n",
    "\n",
    "print(sig)\n",
    "print(len(sig))\n",
    "\n",
    "for i in range(4):\n",
    "    if py_secp256k1.ecdsa_recover(sig + bytes([i]), msghash) == pub:\n",
    "        sig = sig + bytes([i])\n",
    "        break\n",
    "    \n",
    "print()"
   ]
  },
  {
   "cell_type": "code",
   "execution_count": 164,
   "id": "f7b0ba1c",
   "metadata": {},
   "outputs": [
    {
     "data": {
      "text/plain": [
       "b'\\xe7\\x95\\xf9\\xa8\\xcc\\xb1\\xb4<+\\xf2\\x9e\\x86\\xdfS\\xdb\\xc7\\x16i\\xf29Mk?\\xc0\\xeb2\\x9f)\\x86\\xc6\\xbb2\\xb7\\x8bE2k\\x82\"\\xeb\\xf8\\x9f\\xfa\\xffa\\xa8;\\x91\\x0c\\x94\\xf3z\\x8ah\\x12\\xf36\\xfd7\\x04\\x9b\\xfb\\xa5I\\x00'"
      ]
     },
     "execution_count": 164,
     "metadata": {},
     "output_type": "execute_result"
    }
   ],
   "source": [
    "sig"
   ]
  },
  {
   "cell_type": "code",
   "execution_count": 165,
   "id": "af899be1",
   "metadata": {},
   "outputs": [
    {
     "name": "stdout",
     "output_type": "stream",
     "text": [
      "110965473006965171459282381957884705940765335269367368361253915592668877477108\n"
     ]
    }
   ],
   "source": [
    "r = sig[:32]\n",
    "s = sig[32:64]\n",
    "\n",
    "r_int = int.from_bytes(r_bytes, 'little')\n",
    "s_int = int.from_bytes(s_bytes, 'little')\n",
    "print(s_int)"
   ]
  },
  {
   "cell_type": "code",
   "execution_count": 166,
   "id": "75671c02",
   "metadata": {},
   "outputs": [
    {
     "data": {
      "text/plain": [
       "False"
      ]
     },
     "execution_count": 166,
     "metadata": {},
     "output_type": "execute_result"
    }
   ],
   "source": [
    "int.from_bytes(r_bytes, 'little') == int.from_bytes(r_bytes, 'big')"
   ]
  },
  {
   "cell_type": "code",
   "execution_count": 167,
   "id": "6b6a46bb",
   "metadata": {},
   "outputs": [
    {
     "name": "stdout",
     "output_type": "stream",
     "text": [
      "8018832574689321946771824711586173263995065701448906809015844109504961581514\n"
     ]
    }
   ],
   "source": [
    "s_inv = mod_inv(s_int, n)\n",
    "print(s_inv)"
   ]
  },
  {
   "cell_type": "code",
   "execution_count": 168,
   "id": "ba126a5e",
   "metadata": {},
   "outputs": [],
   "source": [
    "pub_int = int.from_bytes(pub_bytes, 'big')\n",
    "prv_int = int.from_bytes(prv_bytes, 'big')"
   ]
  },
  {
   "cell_type": "code",
   "execution_count": 112,
   "id": "1d994130",
   "metadata": {},
   "outputs": [],
   "source": [
    "r_times_pub = (r_int*pub_int)%n"
   ]
  },
  {
   "cell_type": "code",
   "execution_count": 113,
   "id": "52fc62ea",
   "metadata": {},
   "outputs": [],
   "source": [
    "r_times_prv = (r_int*prv_int)%n"
   ]
  },
  {
   "cell_type": "code",
   "execution_count": 169,
   "id": "bc0797f7",
   "metadata": {},
   "outputs": [],
   "source": [
    "def point_mul(generator_pt, pvt_key_hex):\n",
    "    if pvt_key_hex  == 0 or  pvt_key_hex >= n:\n",
    "        raise Exception(\"Invalid Key\")\n",
    "        \n",
    "    # pvt key in hex to binary \n",
    "    pvt_key_bin = str(bin(pvt_key_hex))[2:]\n",
    "    r = generator_pt\n",
    "    \n",
    "    for i in range(1, len(pvt_key_bin)):\n",
    "        # point double the pt for every bit in the pvt key in binary \n",
    "        r = point_double(r)\n",
    "        \n",
    "        # if bit = 1, then both point double & point add\n",
    "        if pvt_key_bin[i] == '1':\n",
    "            r = point_add(r, generator_pt)\n",
    "            \n",
    "            \n",
    "    # return this new pt 'r' which is the pub key || pub key = pvt key * generator pt        \n",
    "    return r   "
   ]
  },
  {
   "cell_type": "code",
   "execution_count": 170,
   "id": "b0f9c25c",
   "metadata": {},
   "outputs": [],
   "source": [
    "def sig_verify(generator_pt, k, z, r, s):\n",
    "    w = mod_inv(s, n) \n",
    "    \n",
    "    u1 = point_mul(generator_pt, (z * w) % n) \n",
    "    u2 = point_mul(pub_key, (r * w) % n) \n",
    "    \n",
    "    x_r2, y_r2 = point_add(u1, u2)\n",
    "\n",
    "    print(\"\\nSignature Verification\", r == x_r2)"
   ]
  },
  {
   "cell_type": "code",
   "execution_count": 171,
   "id": "d3ed11a3",
   "metadata": {},
   "outputs": [
    {
     "name": "stdout",
     "output_type": "stream",
     "text": [
      "14064726522498138637560722988653466761618556537288212226644608271927716912741\n",
      "110965473006965171459282381957884705940765335269367368361253915592668877477108\n"
     ]
    },
    {
     "ename": "OverflowError",
     "evalue": "cannot fit 'int' into an index-sized integer",
     "output_type": "error",
     "traceback": [
      "\u001b[1;31m---------------------------------------------------------------------------\u001b[0m",
      "\u001b[1;31mOverflowError\u001b[0m                             Traceback (most recent call last)",
      "\u001b[1;32m~\\AppData\\Local\\Temp\\ipykernel_20988\\1554787575.py\u001b[0m in \u001b[0;36m<module>\u001b[1;34m\u001b[0m\n\u001b[0;32m      7\u001b[0m \u001b[0mprint\u001b[0m\u001b[1;33m(\u001b[0m\u001b[0ms_int\u001b[0m\u001b[1;33m)\u001b[0m\u001b[1;33m\u001b[0m\u001b[1;33m\u001b[0m\u001b[0m\n\u001b[0;32m      8\u001b[0m \u001b[1;33m\u001b[0m\u001b[0m\n\u001b[1;32m----> 9\u001b[1;33m \u001b[0msig_verify\u001b[0m\u001b[1;33m(\u001b[0m\u001b[0mgenerator_pt\u001b[0m\u001b[1;33m,\u001b[0m \u001b[0mk\u001b[0m\u001b[1;33m,\u001b[0m \u001b[0mz\u001b[0m\u001b[1;33m,\u001b[0m \u001b[0mr_int\u001b[0m\u001b[1;33m,\u001b[0m \u001b[0ms_int\u001b[0m\u001b[1;33m)\u001b[0m\u001b[1;33m\u001b[0m\u001b[1;33m\u001b[0m\u001b[0m\n\u001b[0m",
      "\u001b[1;32m~\\AppData\\Local\\Temp\\ipykernel_20988\\1811393383.py\u001b[0m in \u001b[0;36msig_verify\u001b[1;34m(generator_pt, k, z, r, s)\u001b[0m\n\u001b[0;32m      2\u001b[0m     \u001b[0mw\u001b[0m \u001b[1;33m=\u001b[0m \u001b[0mmod_inv\u001b[0m\u001b[1;33m(\u001b[0m\u001b[0ms\u001b[0m\u001b[1;33m,\u001b[0m \u001b[0mn\u001b[0m\u001b[1;33m)\u001b[0m\u001b[1;33m\u001b[0m\u001b[1;33m\u001b[0m\u001b[0m\n\u001b[0;32m      3\u001b[0m \u001b[1;33m\u001b[0m\u001b[0m\n\u001b[1;32m----> 4\u001b[1;33m     \u001b[0mu1\u001b[0m \u001b[1;33m=\u001b[0m \u001b[0mpoint_mul\u001b[0m\u001b[1;33m(\u001b[0m\u001b[0mgenerator_pt\u001b[0m\u001b[1;33m,\u001b[0m \u001b[1;33m(\u001b[0m\u001b[0mz\u001b[0m \u001b[1;33m*\u001b[0m \u001b[0mw\u001b[0m\u001b[1;33m)\u001b[0m \u001b[1;33m%\u001b[0m \u001b[0mn\u001b[0m\u001b[1;33m)\u001b[0m\u001b[1;33m\u001b[0m\u001b[1;33m\u001b[0m\u001b[0m\n\u001b[0m\u001b[0;32m      5\u001b[0m     \u001b[0mu2\u001b[0m \u001b[1;33m=\u001b[0m \u001b[0mpoint_mul\u001b[0m\u001b[1;33m(\u001b[0m\u001b[0mpub_key\u001b[0m\u001b[1;33m,\u001b[0m \u001b[1;33m(\u001b[0m\u001b[0mr\u001b[0m \u001b[1;33m*\u001b[0m \u001b[0mw\u001b[0m\u001b[1;33m)\u001b[0m \u001b[1;33m%\u001b[0m \u001b[0mn\u001b[0m\u001b[1;33m)\u001b[0m\u001b[1;33m\u001b[0m\u001b[1;33m\u001b[0m\u001b[0m\n\u001b[0;32m      6\u001b[0m \u001b[1;33m\u001b[0m\u001b[0m\n",
      "\u001b[1;31mOverflowError\u001b[0m: cannot fit 'int' into an index-sized integer"
     ]
    }
   ],
   "source": [
    "g_x = 55066263022277343669578718895168534326250603453777594175500187360389116729240 \n",
    "g_y = 32670510020758816978083085130507043184471273380659243275938904335757337482424\n",
    "generator_pt = (g_x, g_y)\n",
    "\n",
    "z = pre_image_hash\n",
    "print(r_int)\n",
    "print(s_int)\n",
    "\n",
    "sig_verify(generator_pt, k, z, r_int, s_int)"
   ]
  },
  {
   "cell_type": "code",
   "execution_count": null,
   "id": "c28c7979",
   "metadata": {},
   "outputs": [],
   "source": []
  },
  {
   "cell_type": "code",
   "execution_count": 95,
   "id": "383350d4",
   "metadata": {},
   "outputs": [
    {
     "name": "stdout",
     "output_type": "stream",
     "text": [
      "64\n",
      "b'0D\\x02 2\\xbb\\xc6\\x86)\\x9f2\\xeb\\xc0?kM9\\xf2i\\x16\\xc7\\xdbS\\xdf\\x86\\x9e\\xf2+<\\xb4\\xb1\\xcc\\xa8\\xf9\\x95\\xe7\\x02 I\\xa5\\xfb\\x9b\\x047\\xfd6\\xf3\\x12h\\x8az\\xf3\\x94\\x0c\\x91;\\xa8a\\xff\\xfa\\x9f\\xf8\\xeb\"\\x82k2E\\x8b\\xb7'\n"
     ]
    }
   ],
   "source": [
    "def ecdsa_signature_serialize_der(sig, context=None):\n",
    "    print(len(sig))\n",
    "    if len(sig) != 64:\n",
    "        raise ValueError(\"Signature should be 64 bytes long\")\n",
    "    r = int.from_bytes(sig[:32], \"little\")\n",
    "    s = int.from_bytes(sig[32:], \"little\")\n",
    "    rb = r.to_bytes((r.bit_length() + 8) // 8, \"big\")\n",
    "    sb = s.to_bytes((s.bit_length() + 8) // 8, \"big\")\n",
    "    return (\n",
    "        b\"\\x30\"\n",
    "        + bytes([4 + len(rb) + len(sb), 2, len(rb)])\n",
    "        + rb\n",
    "        + bytes([2, len(sb)])\n",
    "        + sb\n",
    "    )\n",
    "\n",
    "sig_der = ecdsa_signature_serialize_der(sig[0:64])\n",
    "print(sig_der)\n",
    "\n"
   ]
  },
  {
   "cell_type": "code",
   "execution_count": 145,
   "id": "ea29e955",
   "metadata": {},
   "outputs": [
    {
     "name": "stdout",
     "output_type": "stream",
     "text": [
      "22947412993069689809413313218414555297919684427191669171944219326559928554983\n"
     ]
    }
   ],
   "source": [
    "sig = sig_der\n",
    "\n",
    "if sig[1] + 2 != len(sig):\n",
    "    print('False')\n",
    "if len(sig) < 4:\n",
    "    print('False')\n",
    "if sig[0] != 0x30:\n",
    "    print('False')\n",
    "if sig[2] != 0x02:\n",
    "    print('False')\n",
    "rlen = sig[3]\n",
    "if len(sig) < 6 + rlen:\n",
    "    print('False')\n",
    "if rlen < 1 or rlen > 33:\n",
    "    print('False')\n",
    "if sig[4] >= 0x80:\n",
    "    print('False')\n",
    "if rlen > 1 and (sig[4] == 0) and not (sig[5] & 0x80):\n",
    "    print('False')\n",
    "r = int.from_bytes(sig[4 : 4 + rlen], \"big\")\n",
    "if sig[4 + rlen] != 0x02:\n",
    "    print('False')\n",
    "slen = sig[5 + rlen]\n",
    "if slen < 1 or slen > 33:\n",
    "    print('False')\n",
    "if len(sig) != 6 + rlen + slen:\n",
    "    print('False')\n",
    "if sig[6 + rlen] >= 0x80:\n",
    "    print('False')\n",
    "if slen > 1 and (sig[6 + rlen] == 0) and not (sig[7 + rlen] & 0x80):\n",
    "    print('False')\n",
    "s = int.from_bytes(sig[6 + rlen : 6 + rlen + slen], \"big\")\n",
    "\n",
    "\n",
    "print(r)"
   ]
  },
  {
   "cell_type": "code",
   "execution_count": 111,
   "id": "8503c2ae",
   "metadata": {},
   "outputs": [],
   "source": [
    "SECP256K1_FIELD_SIZE = 2**256 - 2**32 - 977\n",
    "SECP256K1 = EllipticCurve(SECP256K1_FIELD_SIZE, 0, 7)\n",
    "SECP256K1_G = (\n",
    "    0x79BE667EF9DCBBAC55A06295CE870B07029BFCDB2DCE28D959F2815B16F81798,\n",
    "    0x483ADA7726A3C4655DA4FBFC0E1108A8FD17B448A68554199C47D08FFB10D4B8,\n",
    "    1,\n",
    ")\n",
    "SECP256K1_ORDER = 0xFFFFFFFFFFFFFFFFFFFFFFFFFFFFFFFEBAAEDCE6AF48A03BBFD25E8CD0364141\n",
    "SECP256K1_ORDER_HALF = SECP256K1_ORDER // 2\n",
    "\n",
    "low_s=True\n",
    "\n",
    "if r < 1 or s < 1 or r >= SECP256K1_ORDER or s >= SECP256K1_ORDER:\n",
    "    print('False')\n",
    "if low_s and s >= SECP256K1_ORDER_HALF:\n",
    "    print('False')\n",
    "z = int.from_bytes(msghash, \"big\")"
   ]
  },
  {
   "cell_type": "code",
   "execution_count": 112,
   "id": "b43ad73c",
   "metadata": {},
   "outputs": [],
   "source": [
    "def modinv(a, n):\n",
    "    \"\"\"Compute the modular inverse of a modulo n using the extended Euclidean\n",
    "    Algorithm. See https://en.wikipedia.org/wiki/Extended_Euclidean_algorithm#Modular_integers.\n",
    "    \"\"\"\n",
    "    # TODO: Change to pow(a, -1, n) available in Python 3.8\n",
    "    t1, t2 = 0, 1\n",
    "    r1, r2 = n, a\n",
    "    while r2 != 0:\n",
    "        q = r1 // r2\n",
    "        t1, t2 = t2, t1 - q * t2\n",
    "        r1, r2 = r2, r1 - q * r2\n",
    "    if r1 > 1:\n",
    "        return None\n",
    "    if t1 < 0:\n",
    "        t1 += n\n",
    "    return t1"
   ]
  },
  {
   "cell_type": "code",
   "execution_count": 113,
   "id": "897b95b6",
   "metadata": {},
   "outputs": [],
   "source": [
    " def affine(self, p1):\n",
    "        \"\"\"Convert a Jacobian point tuple p1 to affine form, or None if at infinity.\n",
    "\n",
    "        An affine point is represented as the Jacobian (x, y, 1)\"\"\"\n",
    "        x1, y1, z1 = p1\n",
    "        if z1 == 0:\n",
    "            return None\n",
    "        inv = modinv(z1, self.p)\n",
    "        inv_2 = (inv**2) % self.p\n",
    "        inv_3 = (inv_2 * inv) % self.p\n",
    "        return ((inv_2 * x1) % self.p, (inv_3 * y1) % self.p, 1)"
   ]
  },
  {
   "cell_type": "code",
   "execution_count": 117,
   "id": "c13cbc86",
   "metadata": {},
   "outputs": [
    {
     "name": "stdout",
     "output_type": "stream",
     "text": [
      "63564039184791089413261167011382132900511655760780495071022540642697924649285\n",
      "55374581975413887350269077605189805099828903790087199534783532339441190465288\n"
     ]
    },
    {
     "ename": "NameError",
     "evalue": "name 'self' is not defined",
     "output_type": "error",
     "traceback": [
      "\u001b[1;31m---------------------------------------------------------------------------\u001b[0m",
      "\u001b[1;31mNameError\u001b[0m                                 Traceback (most recent call last)",
      "\u001b[1;32m~\\AppData\\Local\\Temp\\ipykernel_13256\\509312878.py\u001b[0m in \u001b[0;36m<module>\u001b[1;34m\u001b[0m\n\u001b[0;32m      6\u001b[0m \u001b[0mprint\u001b[0m\u001b[1;33m(\u001b[0m\u001b[0mu2\u001b[0m\u001b[1;33m)\u001b[0m\u001b[1;33m\u001b[0m\u001b[1;33m\u001b[0m\u001b[0m\n\u001b[0;32m      7\u001b[0m \u001b[1;33m\u001b[0m\u001b[0m\n\u001b[1;32m----> 8\u001b[1;33m \u001b[0mR\u001b[0m \u001b[1;33m=\u001b[0m \u001b[0mSECP256K1\u001b[0m\u001b[1;33m.\u001b[0m\u001b[0maffine\u001b[0m\u001b[1;33m(\u001b[0m\u001b[0mSECP256K1\u001b[0m\u001b[1;33m.\u001b[0m\u001b[0mmul\u001b[0m\u001b[1;33m(\u001b[0m\u001b[1;33m[\u001b[0m\u001b[1;33m(\u001b[0m\u001b[0mSECP256K1_G\u001b[0m\u001b[1;33m,\u001b[0m \u001b[0mu1\u001b[0m\u001b[1;33m)\u001b[0m\u001b[1;33m,\u001b[0m \u001b[1;33m(\u001b[0m\u001b[0mself\u001b[0m\u001b[1;33m.\u001b[0m\u001b[0mp\u001b[0m\u001b[1;33m,\u001b[0m \u001b[0mu2\u001b[0m\u001b[1;33m)\u001b[0m\u001b[1;33m]\u001b[0m\u001b[1;33m)\u001b[0m\u001b[1;33m)\u001b[0m\u001b[1;33m\u001b[0m\u001b[1;33m\u001b[0m\u001b[0m\n\u001b[0m\u001b[0;32m      9\u001b[0m \u001b[1;33m\u001b[0m\u001b[0m\n\u001b[0;32m     10\u001b[0m \u001b[1;32mif\u001b[0m \u001b[0mR\u001b[0m \u001b[1;32mis\u001b[0m \u001b[1;32mNone\u001b[0m \u001b[1;32mor\u001b[0m \u001b[1;33m(\u001b[0m\u001b[0mR\u001b[0m\u001b[1;33m[\u001b[0m\u001b[1;36m0\u001b[0m\u001b[1;33m]\u001b[0m \u001b[1;33m%\u001b[0m \u001b[0mSECP256K1_ORDER\u001b[0m\u001b[1;33m)\u001b[0m \u001b[1;33m!=\u001b[0m \u001b[0mr\u001b[0m\u001b[1;33m:\u001b[0m\u001b[1;33m\u001b[0m\u001b[1;33m\u001b[0m\u001b[0m\n",
      "\u001b[1;31mNameError\u001b[0m: name 'self' is not defined"
     ]
    }
   ],
   "source": [
    "w = modinv(s, SECP256K1_ORDER)\n",
    "u1 = z * w % SECP256K1_ORDER\n",
    "u2 = r * w % SECP256K1_ORDER\n",
    "\n",
    "print(u1)\n",
    "print(u2)\n",
    "\n",
    "R = SECP256K1.affine(SECP256K1.mul([(SECP256K1_G, u1), (self.p, u2)]))\n",
    "\n",
    "if R is None or (R[0] % SECP256K1_ORDER) != r:\n",
    "    print('False')\n",
    "print('True')"
   ]
  },
  {
   "cell_type": "code",
   "execution_count": 69,
   "id": "4e877f0e",
   "metadata": {},
   "outputs": [
    {
     "ename": "ValueError",
     "evalue": "Failed to recover public key",
     "output_type": "error",
     "traceback": [
      "\u001b[1;31m---------------------------------------------------------------------------\u001b[0m",
      "\u001b[1;31mValueError\u001b[0m                                Traceback (most recent call last)",
      "\u001b[1;32m~\\AppData\\Local\\Temp\\ipykernel_13256\\4183540970.py\u001b[0m in \u001b[0;36m<module>\u001b[1;34m\u001b[0m\n\u001b[1;32m----> 1\u001b[1;33m \u001b[0mpy_secp256k1\u001b[0m\u001b[1;33m.\u001b[0m\u001b[0mecdsa_recover\u001b[0m\u001b[1;33m(\u001b[0m\u001b[0msig\u001b[0m \u001b[1;33m+\u001b[0m \u001b[0mbytes\u001b[0m\u001b[1;33m(\u001b[0m\u001b[1;33m[\u001b[0m\u001b[0mi\u001b[0m\u001b[1;33m]\u001b[0m\u001b[1;33m)\u001b[0m\u001b[1;33m,\u001b[0m \u001b[0mmsghash\u001b[0m\u001b[1;33m)\u001b[0m\u001b[1;33m\u001b[0m\u001b[1;33m\u001b[0m\u001b[0m\n\u001b[0m",
      "\u001b[1;32m~\\anaconda3\\lib\\site-packages\\embit\\util\\py_secp256k1.py\u001b[0m in \u001b[0;36mecdsa_recover\u001b[1;34m(sig, msghash, context)\u001b[0m\n\u001b[0;32m    375\u001b[0m         \u001b[1;32mraise\u001b[0m \u001b[0mValueError\u001b[0m\u001b[1;33m(\u001b[0m\u001b[1;34m\"Failed to recover public key\"\u001b[0m\u001b[1;33m)\u001b[0m\u001b[1;33m\u001b[0m\u001b[1;33m\u001b[0m\u001b[0m\n\u001b[0;32m    376\u001b[0m     \u001b[1;32mif\u001b[0m \u001b[1;32mnot\u001b[0m \u001b[0mecdsa_verify\u001b[0m\u001b[1;33m(\u001b[0m\u001b[0msig\u001b[0m\u001b[1;33m[\u001b[0m\u001b[1;33m:\u001b[0m\u001b[1;36m64\u001b[0m\u001b[1;33m]\u001b[0m\u001b[1;33m,\u001b[0m \u001b[0mmsghash\u001b[0m\u001b[1;33m,\u001b[0m \u001b[0mresult\u001b[0m\u001b[1;33m)\u001b[0m\u001b[1;33m:\u001b[0m\u001b[1;33m\u001b[0m\u001b[1;33m\u001b[0m\u001b[0m\n\u001b[1;32m--> 377\u001b[1;33m         \u001b[1;32mraise\u001b[0m \u001b[0mValueError\u001b[0m\u001b[1;33m(\u001b[0m\u001b[1;34m\"Failed to recover public key\"\u001b[0m\u001b[1;33m)\u001b[0m\u001b[1;33m\u001b[0m\u001b[1;33m\u001b[0m\u001b[0m\n\u001b[0m\u001b[0;32m    378\u001b[0m     \u001b[1;32mreturn\u001b[0m \u001b[0mresult\u001b[0m\u001b[1;33m\u001b[0m\u001b[1;33m\u001b[0m\u001b[0m\n",
      "\u001b[1;31mValueError\u001b[0m: Failed to recover public key"
     ]
    }
   ],
   "source": [
    "py_secp256k1.ecdsa_recover(sig + bytes([i]), msghash)"
   ]
  },
  {
   "cell_type": "code",
   "execution_count": 71,
   "id": "404e65b7",
   "metadata": {},
   "outputs": [
    {
     "ename": "TypeError",
     "evalue": "ecdsa_verify() missing 1 required positional argument: 'coin'",
     "output_type": "error",
     "traceback": [
      "\u001b[1;31m---------------------------------------------------------------------------\u001b[0m",
      "\u001b[1;31mTypeError\u001b[0m                                 Traceback (most recent call last)",
      "\u001b[1;32m~\\AppData\\Local\\Temp\\ipykernel_13256\\2629039698.py\u001b[0m in \u001b[0;36m<module>\u001b[1;34m\u001b[0m\n\u001b[1;32m----> 1\u001b[1;33m \u001b[0mecdsa_verify\u001b[0m\u001b[1;33m(\u001b[0m\u001b[0msig\u001b[0m\u001b[1;33m[\u001b[0m\u001b[1;33m:\u001b[0m\u001b[1;36m64\u001b[0m\u001b[1;33m]\u001b[0m\u001b[1;33m,\u001b[0m \u001b[0mmsghash\u001b[0m\u001b[1;33m,\u001b[0m \u001b[0mpub\u001b[0m\u001b[1;33m)\u001b[0m\u001b[1;33m\u001b[0m\u001b[1;33m\u001b[0m\u001b[0m\n\u001b[0m",
      "\u001b[1;31mTypeError\u001b[0m: ecdsa_verify() missing 1 required positional argument: 'coin'"
     ]
    }
   ],
   "source": [
    "ecdsa_verify(sig[:64], msghash, pub)"
   ]
  },
  {
   "cell_type": "code",
   "execution_count": 89,
   "id": "2d7ed362",
   "metadata": {},
   "outputs": [
    {
     "name": "stdout",
     "output_type": "stream",
     "text": [
      "hi\n"
     ]
    }
   ],
   "source": [
    "if not False:\n",
    "    print('hi')"
   ]
  },
  {
   "cell_type": "markdown",
   "id": "4089110c",
   "metadata": {},
   "source": [
    "# Signature  "
   ]
  },
  {
   "cell_type": "code",
   "execution_count": 125,
   "id": "d7e9522b",
   "metadata": {},
   "outputs": [],
   "source": []
  },
  {
   "cell_type": "code",
   "execution_count": 15,
   "id": "3a603ae4",
   "metadata": {},
   "outputs": [
    {
     "name": "stdout",
     "output_type": "stream",
     "text": [
      "Address : bc1q777gx7q5lmexu3feceph3yuc9zyresd5fejjt3\n",
      "Public key : 03a5f9bbfccffbed5c7652778273e4c5145874df88d4efc18abfc23b8f925a70f0\n",
      "Private key : L5Ftf4S3FUPU5ePS4uzgnXQqeuo2mgHnvAAvJKxoAvpaizC5CJt5\n"
     ]
    }
   ],
   "source": [
    "print(\"Address :\", addr)\n",
    "print(\"Public key : 03a5f9bbfccffbed5c7652778273e4c5145874df88d4efc18abfc23b8f925a70f0\")\n",
    "print(\"Private key : L5Ftf4S3FUPU5ePS4uzgnXQqeuo2mgHnvAAvJKxoAvpaizC5CJt5\")"
   ]
  },
  {
   "cell_type": "code",
   "execution_count": 126,
   "id": "2c946635",
   "metadata": {},
   "outputs": [
    {
     "name": "stdout",
     "output_type": "stream",
     "text": [
      "Private key : efd228cd9aa02c990409be22cbe9c194b1848cbbf6c36269b107ce9fa6807b12\n"
     ]
    }
   ],
   "source": []
  },
  {
   "cell_type": "code",
   "execution_count": 172,
   "id": "ebca34a5",
   "metadata": {},
   "outputs": [
    {
     "name": "stdout",
     "output_type": "stream",
     "text": [
      "<ecdsa.keys.SigningKey object at 0x00000285E3D22400>\n",
      "Digest (double SHA) : 523a1837aace053c4bbb61ee260f48493e14bb46f452eaafe533b6bcd4385dcf\n",
      "128\n",
      "32bbc686299f32ebc03f6b4d39f26916c7db53df869ef22b3cb4b1cca8f995e7\n",
      "49a5fb9b0437fd36f312688a7af3940c913ba861fffa9ff8eb22826b32458bb7\n"
     ]
    }
   ],
   "source": [
    "sk = ecdsa.SigningKey.from_string(bytes.fromhex(priv_key_hex), curve=ecdsa.SECP256k1, hashfunc=hashlib.sha256)\n",
    "\n",
    "print(sk)\n",
    "\n",
    "unsigned_txn = unsigned_txn_1\n",
    "#hashed_message = double_sha256(unsigned_txn)\n",
    "#print(hashed_message)\n",
    "\n",
    "#signature = sk.sign_deterministic(bytes(hashed_message, 'utf-8'), hashfunc=hashlib.sha256)\n",
    "#signature = sk.sign_deterministic(bytes(unsigned_txn, 'utf-8'), hashfunc=hashlib.sha256)\n",
    "\n",
    "#signature = sk.sign_deterministic(bytes.fromhex(unsigned_txn), hashfunc=hashlib.sha256, sigencode=sigencode_der)\n",
    "\n",
    "#unsigned_txn_single_hash = 'c304d56804b24a6801a77803281a497f5526e20f14e65df1006887fc57f0ee39'\n",
    "\n",
    "unsigned_txn_double_hash = double_sha256(unsigned_txn)\n",
    "print(\"Digest (double SHA) :\", unsigned_txn_double_hash)\n",
    "\n",
    "#signature = sk.sign_deterministic(bytes.fromhex(unsigned_txn_single_hash), hashfunc=hashlib.sha256)\n",
    "signature = sk.sign_digest_deterministic(bytes.fromhex(unsigned_txn_double_hash), hashfunc=hashlib.sha256)\n",
    "\n",
    "signature = signature.hex()\n",
    "print(len(signature))\n",
    "print(signature[:64])\n",
    "print(signature[64:128])\n",
    "#print('3044022032bbc686299f32ebc03f6b4d39f26916c7db53df869ef22b3cb4b1cca8f995e7022049a5fb9b0437fd36f312688a7af3940c913ba861fffa9ff8eb22826b32458bb701')\n"
   ]
  },
  {
   "cell_type": "code",
   "execution_count": 177,
   "id": "ce84d76c",
   "metadata": {},
   "outputs": [
    {
     "ename": "BadSignatureError",
     "evalue": "Signature verification failed",
     "output_type": "error",
     "traceback": [
      "\u001b[1;31m---------------------------------------------------------------------------\u001b[0m",
      "\u001b[1;31mBadSignatureError\u001b[0m                         Traceback (most recent call last)",
      "\u001b[1;32m~\\AppData\\Local\\Temp\\ipykernel_20988\\1175956118.py\u001b[0m in \u001b[0;36m<module>\u001b[1;34m\u001b[0m\n\u001b[0;32m      2\u001b[0m \u001b[1;33m\u001b[0m\u001b[0m\n\u001b[0;32m      3\u001b[0m \u001b[0mvk\u001b[0m \u001b[1;33m=\u001b[0m \u001b[0msk\u001b[0m\u001b[1;33m.\u001b[0m\u001b[0mget_verifying_key\u001b[0m\u001b[1;33m(\u001b[0m\u001b[1;33m)\u001b[0m\u001b[1;33m\u001b[0m\u001b[1;33m\u001b[0m\u001b[0m\n\u001b[1;32m----> 4\u001b[1;33m \u001b[0mvk\u001b[0m\u001b[1;33m.\u001b[0m\u001b[0mverify\u001b[0m\u001b[1;33m(\u001b[0m\u001b[0msig\u001b[0m\u001b[1;33m[\u001b[0m\u001b[1;33m:\u001b[0m\u001b[1;36m64\u001b[0m\u001b[1;33m]\u001b[0m\u001b[1;33m,\u001b[0m \u001b[0mpre_image_hash_bytes\u001b[0m\u001b[1;33m)\u001b[0m \u001b[1;31m# True\u001b[0m\u001b[1;33m\u001b[0m\u001b[1;33m\u001b[0m\u001b[0m\n\u001b[0m",
      "\u001b[1;32m~\\anaconda3\\lib\\site-packages\\ecdsa\\keys.py\u001b[0m in \u001b[0;36mverify\u001b[1;34m(self, signature, data, hashfunc, sigdecode, allow_truncate)\u001b[0m\n\u001b[0;32m    671\u001b[0m         \u001b[0mhashfunc\u001b[0m \u001b[1;33m=\u001b[0m \u001b[0mhashfunc\u001b[0m \u001b[1;32mor\u001b[0m \u001b[0mself\u001b[0m\u001b[1;33m.\u001b[0m\u001b[0mdefault_hashfunc\u001b[0m\u001b[1;33m\u001b[0m\u001b[1;33m\u001b[0m\u001b[0m\n\u001b[0;32m    672\u001b[0m         \u001b[0mdigest\u001b[0m \u001b[1;33m=\u001b[0m \u001b[0mhashfunc\u001b[0m\u001b[1;33m(\u001b[0m\u001b[0mdata\u001b[0m\u001b[1;33m)\u001b[0m\u001b[1;33m.\u001b[0m\u001b[0mdigest\u001b[0m\u001b[1;33m(\u001b[0m\u001b[1;33m)\u001b[0m\u001b[1;33m\u001b[0m\u001b[1;33m\u001b[0m\u001b[0m\n\u001b[1;32m--> 673\u001b[1;33m         \u001b[1;32mreturn\u001b[0m \u001b[0mself\u001b[0m\u001b[1;33m.\u001b[0m\u001b[0mverify_digest\u001b[0m\u001b[1;33m(\u001b[0m\u001b[0msignature\u001b[0m\u001b[1;33m,\u001b[0m \u001b[0mdigest\u001b[0m\u001b[1;33m,\u001b[0m \u001b[0msigdecode\u001b[0m\u001b[1;33m,\u001b[0m \u001b[0mallow_truncate\u001b[0m\u001b[1;33m)\u001b[0m\u001b[1;33m\u001b[0m\u001b[1;33m\u001b[0m\u001b[0m\n\u001b[0m\u001b[0;32m    674\u001b[0m \u001b[1;33m\u001b[0m\u001b[0m\n\u001b[0;32m    675\u001b[0m     def verify_digest(\n",
      "\u001b[1;32m~\\anaconda3\\lib\\site-packages\\ecdsa\\keys.py\u001b[0m in \u001b[0;36mverify_digest\u001b[1;34m(self, signature, digest, sigdecode, allow_truncate)\u001b[0m\n\u001b[0;32m    727\u001b[0m         \u001b[1;32mif\u001b[0m \u001b[0mself\u001b[0m\u001b[1;33m.\u001b[0m\u001b[0mpubkey\u001b[0m\u001b[1;33m.\u001b[0m\u001b[0mverifies\u001b[0m\u001b[1;33m(\u001b[0m\u001b[0mnumber\u001b[0m\u001b[1;33m,\u001b[0m \u001b[0msig\u001b[0m\u001b[1;33m)\u001b[0m\u001b[1;33m:\u001b[0m\u001b[1;33m\u001b[0m\u001b[1;33m\u001b[0m\u001b[0m\n\u001b[0;32m    728\u001b[0m             \u001b[1;32mreturn\u001b[0m \u001b[1;32mTrue\u001b[0m\u001b[1;33m\u001b[0m\u001b[1;33m\u001b[0m\u001b[0m\n\u001b[1;32m--> 729\u001b[1;33m         \u001b[1;32mraise\u001b[0m \u001b[0mBadSignatureError\u001b[0m\u001b[1;33m(\u001b[0m\u001b[1;34m\"Signature verification failed\"\u001b[0m\u001b[1;33m)\u001b[0m\u001b[1;33m\u001b[0m\u001b[1;33m\u001b[0m\u001b[0m\n\u001b[0m\u001b[0;32m    730\u001b[0m \u001b[1;33m\u001b[0m\u001b[0m\n\u001b[0;32m    731\u001b[0m \u001b[1;33m\u001b[0m\u001b[0m\n",
      "\u001b[1;31mBadSignatureError\u001b[0m: Signature verification failed"
     ]
    }
   ],
   "source": [
    "vk = sk.get_verifying_key()\n",
    "vk.verify(sig[:64], pre_image_hash_bytes) # True"
   ]
  },
  {
   "cell_type": "code",
   "execution_count": 178,
   "id": "8c0e70bf",
   "metadata": {},
   "outputs": [
    {
     "data": {
      "text/plain": [
       "b'\\xe7\\x95\\xf9\\xa8\\xcc\\xb1\\xb4<+\\xf2\\x9e\\x86\\xdfS\\xdb\\xc7\\x16i\\xf29Mk?\\xc0\\xeb2\\x9f)\\x86\\xc6\\xbb2\\xb7\\x8bE2k\\x82\"\\xeb\\xf8\\x9f\\xfa\\xffa\\xa8;\\x91\\x0c\\x94\\xf3z\\x8ah\\x12\\xf36\\xfd7\\x04\\x9b\\xfb\\xa5I\\x00'"
      ]
     },
     "execution_count": 178,
     "metadata": {},
     "output_type": "execute_result"
    }
   ],
   "source": [
    "sig"
   ]
  },
  {
   "cell_type": "code",
   "execution_count": 173,
   "id": "00751f6d",
   "metadata": {},
   "outputs": [
    {
     "name": "stdout",
     "output_type": "stream",
     "text": [
      "b'\\x80\\xef\\xd2(\\xcd\\x9a\\xa0,\\x99\\x04\\t\\xbe\"\\xcb\\xe9\\xc1\\x94\\xb1\\x84\\x8c\\xbb\\xf6\\xc3bi\\xb1\\x07\\xce\\x9f\\xa6\\x80{\\x12\\x01R\\xc0B\\x8e'\n",
      "80efd228cd9aa02c990409be22cbe9c194b1848cbbf6c36269b107ce9fa6807b120152c0428e\n",
      "efd228cd9aa02c990409be22cbe9c194b1848cbbf6c36269b107ce9fa6807b12\n"
     ]
    }
   ],
   "source": [
    "#converting WIF to private key \n",
    "\n",
    "pvt_key_wif = 'L5Ftf4S3FUPU5ePS4uzgnXQqeuo2mgHnvAAvJKxoAvpaizC5CJt5'\n",
    "\n",
    "first_encode = base58.b58decode(pvt_key_wif)\n",
    "print(first_encode)\n",
    "print(first_encode.hex())\n",
    "\n",
    "pvt_key = first_encode.hex()\n",
    "pvt_key = pvt_key[2:][:-8][:-2]\n",
    "print(pvt_key)"
   ]
  },
  {
   "cell_type": "code",
   "execution_count": 25,
   "id": "a93defc9",
   "metadata": {},
   "outputs": [
    {
     "name": "stdout",
     "output_type": "stream",
     "text": [
      "<ecdsa.keys.SigningKey object at 0x00000285E7861160>\n",
      "c37af31116d1b27caf68aae9e3ac82f1477929014d5b917657d0eb49478cb670\n",
      "c37af31116d1b27caf68aae9e3ac82f1477929014d5b917657d0eb49478cb670\n",
      "128\n",
      "3609e17b84f6a7d30c80bfa610b5b4542f32a8a0d5447a12fb1366d7f01cc44a\n",
      "a8c56ab3bae7ccea9ebf906fcff170cb61b9c3bddb0c7f1133238e5ee9b75553\n",
      "304402203609e17b84f6a7d30c80bfa610b5b4542f32a8a0d5447a12fb1366d7f01cc44a0220573a954c4518331561406f90300e8f3358f51928d43c212a8caed02de67eebee\n"
     ]
    }
   ],
   "source": [
    "priv_key_hex = '619c335025c7f4012e556c2a58b2506e30b8511b53ade95ea316fd8c3286feb9'\n",
    "sk = ecdsa.SigningKey.from_string(bytes.fromhex(priv_key_hex), curve=ecdsa.SECP256k1, hashfunc=hashlib.sha256)\n",
    "\n",
    "print(sk)\n",
    "\n",
    "unsigned_txn = '0100000096b827c8483d4e9b96712b6713a7b68d6e8003a781feba36c31143470b4efd3752b0a642eea2fb7ae638c36f6252b6750293dbe574a806984b8e4d8548339a3bef51e1b804cc89d182d279655c3aa89e815b1b309fe287d9b2b55d57b90ec68a010000001976a9141d0f172a0ecb48aee1be1f2687d2963ae33f71a188ac0046c32300000000ffffffff863ef3e1a92afbfdb97f31ad0fc7683ee943e9abcf2501590ff8f6551f47e5e51100000001000000'\n",
    "#hashed_message = double_sha256(unsigned_txn)\n",
    "#print(hashed_message)\n",
    "\n",
    "#signature = sk.sign_deterministic(bytes(hashed_message, 'utf-8'), hashfunc=hashlib.sha256)\n",
    "#signature = sk.sign_deterministic(bytes(unsigned_txn, 'utf-8'), hashfunc=hashlib.sha256)\n",
    "\n",
    "#signature = sk.sign_deterministic(bytes.fromhex(unsigned_txn), hashfunc=hashlib.sha256, sigencode=sigencode_der)\n",
    "\n",
    "#unsigned_txn_single_hash = 'c304d56804b24a6801a77803281a497f5526e20f14e65df1006887fc57f0ee39'\n",
    "\n",
    "unsigned_txn_double_hash = double_sha256(unsigned_txn)\n",
    "print(unsigned_txn_double_hash)\n",
    "\n",
    "#signature = sk.sign_deterministic(bytes.fromhex(unsigned_txn_single_hash), hashfunc=hashlib.sha256)\n",
    "signature = sk.sign_digest_deterministic(bytes.fromhex(unsigned_txn_double_hash))\n",
    "\n",
    "signature = signature.hex()\n",
    "print(len(signature))\n",
    "print(signature[:64])\n",
    "print(signature[64:128])\n",
    "print('304402203609e17b84f6a7d30c80bfa610b5b4542f32a8a0d5447a12fb1366d7f01cc44a0220573a954c4518331561406f90300e8f3358f51928d43c212a8caed02de67eebee')\n"
   ]
  },
  {
   "cell_type": "markdown",
   "id": "35b9f7f3",
   "metadata": {},
   "source": [
    "# Garbage"
   ]
  },
  {
   "cell_type": "code",
   "execution_count": null,
   "id": "800d0324",
   "metadata": {},
   "outputs": [],
   "source": [
    "\"02000000000101"
   ]
  },
  {
   "cell_type": "code",
   "execution_count": 55,
   "id": "c2247279",
   "metadata": {},
   "outputs": [
    {
     "name": "stdout",
     "output_type": "stream",
     "text": [
      "ECDSA Signature: 304402203763c5cba2af1afb499efcd226017a96b4c6a45453bc90be4e82a653f69102660220418b0aa7d9981d4e3dc376687fa7c528e8c40a22887f240ee96b96a8acc1ae87\n"
     ]
    }
   ],
   "source": [
    "import ecdsa\n",
    "from ecdsa import SECP256k1\n",
    "import hashlib\n",
    "\n",
    "def sign_transaction(private_key, unsigned_transaction_hex):\n",
    "    # Deserialize the unsigned transaction hex\n",
    "    unsigned_transaction_bytes = bytes.fromhex(unsigned_transaction_hex)\n",
    "\n",
    "    # Hash the transaction\n",
    "    transaction_hash = double_sha256(unsigned_transaction_bytes)\n",
    "\n",
    "    # Create an ECDSA signature\n",
    "    signature = ecdsa.SigningKey.from_string(private_key, curve=SECP256k1).sign_digest(transaction_hash, sigencode=ecdsa.util.sigencode_der_canonize)\n",
    "\n",
    "    # Verify the signature (optional, for demonstration purposes)\n",
    "    verification_key = ecdsa.VerifyingKey.from_string(ecdsa.SigningKey.from_string(private_key, curve=SECP256k1).get_verifying_key().to_string(), curve=SECP256k1)\n",
    "    if not verification_key.verify_digest(signature, transaction_hash, sigdecode=ecdsa.util.sigdecode_der):\n",
    "        raise ValueError(\"Signature verification failed.\")\n",
    "\n",
    "    # Return the signature as bytes\n",
    "    return signature\n",
    "\n",
    "def double_sha256(data):\n",
    "    return hashlib.sha256(hashlib.sha256(data).digest()).digest()\n",
    "\n",
    "# Example Usage\n",
    "private_key_hex = \"26F85CE8B2C635AD92F6148E4443FE415F512F3F29F44AB0E2CBDA819295BBD5\"  # Replace with your actual private key in hexadecimal format\n",
    "unsigned_transaction_hex = \"0200000099197e88ff743aff3e453e3a7b745abd31937ccbd56f96a179266eba786833e682a7d5bb59fc957ff7f737ca0b8be713c705d6173783ad5edb067819bed70be89cb872539fbe1bc0b9c5562195095f3f35e6e13919259956c6263c9bd53b20b7010000001976a914594c2e3da92d1904f7e7c856220f8cae5efb556488ac5424000000000000fffffffff3ae23c3fd63a2e0479888f95c7a8ab221b20add6ac819e9d8953edd1a0cd9240000000001000000\"\n",
    "\n",
    "private_key = bytes.fromhex(private_key_hex)\n",
    "signature = sign_transaction(private_key, unsigned_transaction_hex)\n",
    "print(\"ECDSA Signature:\", signature.hex())\n"
   ]
  },
  {
   "cell_type": "code",
   "execution_count": 58,
   "id": "607163c7",
   "metadata": {},
   "outputs": [
    {
     "ename": "TypeError",
     "evalue": "'bytes' object is not callable",
     "output_type": "error",
     "traceback": [
      "\u001b[1;31m---------------------------------------------------------------------------\u001b[0m",
      "\u001b[1;31mTypeError\u001b[0m                                 Traceback (most recent call last)",
      "\u001b[1;32m~\\AppData\\Local\\Temp\\ipykernel_23672\\3825351759.py\u001b[0m in \u001b[0;36m<module>\u001b[1;34m\u001b[0m\n\u001b[0;32m     33\u001b[0m \u001b[0munsigned_transaction_hex\u001b[0m \u001b[1;33m=\u001b[0m \u001b[1;34m\"0200000099197e88ff743aff3e453e3a7b745abd31937ccbd56f96a179266eba786833e682a7d5bb59fc957ff7f737ca0b8be713c705d6173783ad5edb067819bed70be89cb872539fbe1bc0b9c5562195095f3f35e6e13919259956c6263c9bd53b20b7010000001976a914594c2e3da92d1904f7e7c856220f8cae5efb556488ac5424000000000000fffffffff3ae23c3fd63a2e0479888f95c7a8ab221b20add6ac819e9d8953edd1a0cd9240000000001000000\"\u001b[0m\u001b[1;33m\u001b[0m\u001b[1;33m\u001b[0m\u001b[0m\n\u001b[0;32m     34\u001b[0m \u001b[1;33m\u001b[0m\u001b[0m\n\u001b[1;32m---> 35\u001b[1;33m \u001b[0msignature\u001b[0m \u001b[1;33m=\u001b[0m \u001b[0mdeterministic_sign\u001b[0m\u001b[1;33m(\u001b[0m\u001b[0mprivate_key_hex\u001b[0m\u001b[1;33m,\u001b[0m \u001b[0munsigned_transaction_hex\u001b[0m\u001b[1;33m)\u001b[0m\u001b[1;33m\u001b[0m\u001b[1;33m\u001b[0m\u001b[0m\n\u001b[0m\u001b[0;32m     36\u001b[0m \u001b[0mprint\u001b[0m\u001b[1;33m(\u001b[0m\u001b[1;34m\"ECDSA Signature:\"\u001b[0m\u001b[1;33m,\u001b[0m \u001b[0msignature\u001b[0m\u001b[1;33m.\u001b[0m\u001b[0mhex\u001b[0m\u001b[1;33m(\u001b[0m\u001b[1;33m)\u001b[0m\u001b[1;33m)\u001b[0m\u001b[1;33m\u001b[0m\u001b[1;33m\u001b[0m\u001b[0m\n",
      "\u001b[1;32m~\\AppData\\Local\\Temp\\ipykernel_23672\\3825351759.py\u001b[0m in \u001b[0;36mdeterministic_sign\u001b[1;34m(private_key_hex, unsigned_transaction_hex)\u001b[0m\n\u001b[0;32m     18\u001b[0m \u001b[1;33m\u001b[0m\u001b[0m\n\u001b[0;32m     19\u001b[0m     \u001b[1;31m# RFC 6979 deterministic k generation using HMAC-SHA256\u001b[0m\u001b[1;33m\u001b[0m\u001b[1;33m\u001b[0m\u001b[0m\n\u001b[1;32m---> 20\u001b[1;33m     \u001b[0mdeterministic_k\u001b[0m \u001b[1;33m=\u001b[0m \u001b[0mecdsa\u001b[0m\u001b[1;33m.\u001b[0m\u001b[0mrfc6979\u001b[0m\u001b[1;33m.\u001b[0m\u001b[0mgenerate_k\u001b[0m\u001b[1;33m(\u001b[0m\u001b[0msigning_key\u001b[0m\u001b[1;33m.\u001b[0m\u001b[0mcurve\u001b[0m\u001b[1;33m.\u001b[0m\u001b[0morder\u001b[0m\u001b[1;33m,\u001b[0m \u001b[0msigning_key\u001b[0m\u001b[1;33m.\u001b[0m\u001b[0mprivkey\u001b[0m\u001b[1;33m.\u001b[0m\u001b[0msecret_multiplier\u001b[0m\u001b[1;33m,\u001b[0m \u001b[0mtransaction_hash\u001b[0m\u001b[1;33m,\u001b[0m \u001b[0mhmac\u001b[0m\u001b[1;33m.\u001b[0m\u001b[0mnew\u001b[0m\u001b[1;33m,\u001b[0m \u001b[0mhashlib\u001b[0m\u001b[1;33m.\u001b[0m\u001b[0msha256\u001b[0m\u001b[1;33m)\u001b[0m\u001b[1;33m.\u001b[0m\u001b[0mdigest\u001b[0m\u001b[1;33m(\u001b[0m\u001b[1;33m)\u001b[0m\u001b[1;33m\u001b[0m\u001b[1;33m\u001b[0m\u001b[0m\n\u001b[0m\u001b[0;32m     21\u001b[0m \u001b[1;33m\u001b[0m\u001b[0m\n\u001b[0;32m     22\u001b[0m     \u001b[1;31m# Sign the hash using the deterministic k\u001b[0m\u001b[1;33m\u001b[0m\u001b[1;33m\u001b[0m\u001b[0m\n",
      "\u001b[1;32m~\\anaconda3\\lib\\site-packages\\ecdsa\\rfc6979.py\u001b[0m in \u001b[0;36mgenerate_k\u001b[1;34m(order, secexp, hash_func, data, retry_gen, extra_entropy)\u001b[0m\n\u001b[0;32m     57\u001b[0m \u001b[1;33m\u001b[0m\u001b[0m\n\u001b[0;32m     58\u001b[0m     \u001b[0mqlen\u001b[0m \u001b[1;33m=\u001b[0m \u001b[0mbit_length\u001b[0m\u001b[1;33m(\u001b[0m\u001b[0morder\u001b[0m\u001b[1;33m)\u001b[0m\u001b[1;33m\u001b[0m\u001b[1;33m\u001b[0m\u001b[0m\n\u001b[1;32m---> 59\u001b[1;33m     \u001b[0mholen\u001b[0m \u001b[1;33m=\u001b[0m \u001b[0mhash_func\u001b[0m\u001b[1;33m(\u001b[0m\u001b[1;33m)\u001b[0m\u001b[1;33m.\u001b[0m\u001b[0mdigest_size\u001b[0m\u001b[1;33m\u001b[0m\u001b[1;33m\u001b[0m\u001b[0m\n\u001b[0m\u001b[0;32m     60\u001b[0m     \u001b[0mrolen\u001b[0m \u001b[1;33m=\u001b[0m \u001b[1;33m(\u001b[0m\u001b[0mqlen\u001b[0m \u001b[1;33m+\u001b[0m \u001b[1;36m7\u001b[0m\u001b[1;33m)\u001b[0m \u001b[1;33m//\u001b[0m \u001b[1;36m8\u001b[0m\u001b[1;33m\u001b[0m\u001b[1;33m\u001b[0m\u001b[0m\n\u001b[0;32m     61\u001b[0m     bx = (\n",
      "\u001b[1;31mTypeError\u001b[0m: 'bytes' object is not callable"
     ]
    }
   ],
   "source": [
    "import ecdsa\n",
    "from ecdsa import SECP256k1\n",
    "import hashlib\n",
    "import hmac\n",
    "\n",
    "def deterministic_sign(private_key_hex, unsigned_transaction_hex):\n",
    "    # Convert private key to bytes\n",
    "    private_key = bytes.fromhex(private_key_hex)\n",
    "\n",
    "    # Deserialize the unsigned transaction hex\n",
    "    unsigned_transaction_bytes = bytes.fromhex(unsigned_transaction_hex)\n",
    "\n",
    "    # Hash the transaction\n",
    "    transaction_hash = double_sha256(unsigned_transaction_bytes)\n",
    "\n",
    "    # Create an ECDSA private key\n",
    "    signing_key = ecdsa.SigningKey.from_string(private_key, curve=SECP256k1)\n",
    "\n",
    "    # RFC 6979 deterministic k generation using HMAC-SHA256\n",
    "    deterministic_k = ecdsa.rfc6979.generate_k(signing_key.curve.order, signing_key.privkey.secret_multiplier, transaction_hash, hmac.new, hashlib.sha256).digest()\n",
    "\n",
    "    # Sign the hash using the deterministic k\n",
    "    signature = signing_key.sign_digest_deterministic(transaction_hash, hashfunc=hashlib.sha256, sigencode=ecdsa.util.sigencode_der, k=deterministic_k)\n",
    "\n",
    "    # Return the signature as bytes\n",
    "    return signature\n",
    "\n",
    "def double_sha256(data):\n",
    "    return hashlib.sha256(hashlib.sha256(data).digest()).digest()\n",
    "\n",
    "# Example Usage\n",
    "private_key_hex = \"26F85CE8B2C635AD92F6148E4443FE415F512F3F29F44AB0E2CBDA819295BBD5\"\n",
    "unsigned_transaction_hex = \"0200000099197e88ff743aff3e453e3a7b745abd31937ccbd56f96a179266eba786833e682a7d5bb59fc957ff7f737ca0b8be713c705d6173783ad5edb067819bed70be89cb872539fbe1bc0b9c5562195095f3f35e6e13919259956c6263c9bd53b20b7010000001976a914594c2e3da92d1904f7e7c856220f8cae5efb556488ac5424000000000000fffffffff3ae23c3fd63a2e0479888f95c7a8ab221b20add6ac819e9d8953edd1a0cd9240000000001000000\"\n",
    "\n",
    "signature = deterministic_sign(private_key_hex, unsigned_transaction_hex)\n",
    "print(\"ECDSA Signature:\", signature.hex())\n"
   ]
  },
  {
   "cell_type": "code",
   "execution_count": 62,
   "id": "51d6195f",
   "metadata": {},
   "outputs": [
    {
     "ename": "AttributeError",
     "evalue": "'str' object has no attribute 'sign'",
     "output_type": "error",
     "traceback": [
      "\u001b[1;31m---------------------------------------------------------------------------\u001b[0m",
      "\u001b[1;31mAttributeError\u001b[0m                            Traceback (most recent call last)",
      "\u001b[1;32m~\\AppData\\Local\\Temp\\ipykernel_23672\\4232225436.py\u001b[0m in \u001b[0;36m<module>\u001b[1;34m\u001b[0m\n\u001b[0;32m      5\u001b[0m \u001b[0msk\u001b[0m \u001b[1;33m=\u001b[0m \u001b[1;34m\"26F85CE8B2C635AD92F6148E4443FE415F512F3F29F44AB0E2CBDA819295BBD5\"\u001b[0m\u001b[1;31m#ecdsa.SigningKey.generate(curve=ecdsa.SECP256k1, hashfunc=sha256) # The default is sha1\u001b[0m\u001b[1;33m\u001b[0m\u001b[1;33m\u001b[0m\u001b[0m\n\u001b[0;32m      6\u001b[0m \u001b[0mhash_\u001b[0m \u001b[1;33m=\u001b[0m \u001b[1;34m\"4876161197833dd58a1a2ba20728633677f38b9a7513a4d7d3714a7f7d3a1fa2\"\u001b[0m\u001b[1;33m\u001b[0m\u001b[1;33m\u001b[0m\u001b[0m\n\u001b[1;32m----> 7\u001b[1;33m \u001b[0msig\u001b[0m \u001b[1;33m=\u001b[0m \u001b[0msk\u001b[0m\u001b[1;33m.\u001b[0m\u001b[0msign\u001b[0m\u001b[1;33m(\u001b[0m\u001b[1;34mb\"4876161197833dd58a1a2ba20728633677f38b9a7513a4d7d3714a7f7d3a1fa2\"\u001b[0m\u001b[1;33m)\u001b[0m\u001b[1;33m\u001b[0m\u001b[1;33m\u001b[0m\u001b[0m\n\u001b[0m",
      "\u001b[1;31mAttributeError\u001b[0m: 'str' object has no attribute 'sign'"
     ]
    }
   ],
   "source": [
    "import ecdsa\n",
    "from hashlib import sha256\n",
    "\n",
    "# SECP256k1 is the Bitcoin elliptic curve\n",
    "sk = \"26F85CE8B2C635AD92F6148E4443FE415F512F3F29F44AB0E2CBDA819295BBD5\"#ecdsa.SigningKey.generate(curve=ecdsa.SECP256k1, hashfunc=sha256) # The default is sha1\n",
    "hash_ = \"4876161197833dd58a1a2ba20728633677f38b9a7513a4d7d3714a7f7d3a1fa2\"\n",
    "sig = sk.sign(b\"4876161197833dd58a1a2ba20728633677f38b9a7513a4d7d3714a7f7d3a1fa2\")\n"
   ]
  },
  {
   "cell_type": "code",
   "execution_count": 63,
   "id": "95ff30f6",
   "metadata": {},
   "outputs": [
    {
     "name": "stdout",
     "output_type": "stream",
     "text": [
      "Requirement already satisfied: starkbank-ecdsa in c:\\users\\krizc\\anaconda3\\lib\\site-packages (2.2.0)\n"
     ]
    }
   ],
   "source": [
    "!pip install starkbank-ecdsa"
   ]
  },
  {
   "cell_type": "code",
   "execution_count": 65,
   "id": "5c072745",
   "metadata": {},
   "outputs": [
    {
     "ename": "NameError",
     "evalue": "name 'PrivateKey' is not defined",
     "output_type": "error",
     "traceback": [
      "\u001b[1;31m---------------------------------------------------------------------------\u001b[0m",
      "\u001b[1;31mNameError\u001b[0m                                 Traceback (most recent call last)",
      "\u001b[1;32m~\\AppData\\Local\\Temp\\ipykernel_23672\\3188992051.py\u001b[0m in \u001b[0;36m<module>\u001b[1;34m\u001b[0m\n\u001b[0;32m      1\u001b[0m \u001b[1;31m# Generate Keys\u001b[0m\u001b[1;33m\u001b[0m\u001b[1;33m\u001b[0m\u001b[0m\n\u001b[1;32m----> 2\u001b[1;33m \u001b[0mprivateKey\u001b[0m \u001b[1;33m=\u001b[0m \u001b[0mPrivateKey\u001b[0m\u001b[1;33m(\u001b[0m\u001b[1;33m)\u001b[0m\u001b[1;33m\u001b[0m\u001b[1;33m\u001b[0m\u001b[0m\n\u001b[0m\u001b[0;32m      3\u001b[0m \u001b[0mpublicKey\u001b[0m \u001b[1;33m=\u001b[0m \u001b[0mprivateKey\u001b[0m\u001b[1;33m.\u001b[0m\u001b[0mpublicKey\u001b[0m\u001b[1;33m(\u001b[0m\u001b[1;33m)\u001b[0m\u001b[1;33m\u001b[0m\u001b[1;33m\u001b[0m\u001b[0m\n\u001b[0;32m      4\u001b[0m \u001b[1;33m\u001b[0m\u001b[0m\n\u001b[0;32m      5\u001b[0m \u001b[0mprint\u001b[0m\u001b[1;33m(\u001b[0m\u001b[0mpublicKey\u001b[0m\u001b[1;33m)\u001b[0m\u001b[1;33m\u001b[0m\u001b[1;33m\u001b[0m\u001b[0m\n",
      "\u001b[1;31mNameError\u001b[0m: name 'PrivateKey' is not defined"
     ]
    }
   ],
   "source": [
    "# Generate Keys\n",
    "privateKey = PrivateKey()\n",
    "publicKey = privateKey.publicKey()\n",
    "\n",
    "print(publicKey)\n",
    "\n",
    "message = \"My test message\"\n",
    "\n",
    "# Generate Signature\n",
    "signature = Ecdsa.sign(message, privateKey)\n",
    "\n",
    "# Verify if signature is valid\n",
    "print (Ecdsa.verify(message, signature, publicKey))"
   ]
  },
  {
   "cell_type": "code",
   "execution_count": 74,
   "id": "c492f2bc",
   "metadata": {},
   "outputs": [
    {
     "name": "stdout",
     "output_type": "stream",
     "text": [
      "Code from chatGPT : 3044022025ad334a7d3b691109168651ab163c369e684314bb350d9000028034b9201a1502202371e952e88e9ab9f290cb776b109cc89ec97a9041a780fbfeaf450a95a1211e\n"
     ]
    }
   ],
   "source": [
    "import ecdsa\n",
    "from ecdsa import SECP256k1\n",
    "import hashlib\n",
    "\n",
    "def sign_transaction(private_key, unsigned_transaction_hex):\n",
    "    # Deserialize the unsigned transaction hex\n",
    "    unsigned_transaction_bytes = bytes.fromhex(unsigned_transaction_hex)\n",
    "\n",
    "    # Hash the transaction\n",
    "    transaction_hash = double_sha256(unsigned_transaction_bytes)\n",
    "\n",
    "    # Create an ECDSA signature\n",
    "    signature = ecdsa.SigningKey.from_string(private_key, curve=SECP256k1).sign_digest(transaction_hash, sigencode=ecdsa.util.sigencode_der_canonize)\n",
    "\n",
    "    # Verify the signature (optional, for demonstration purposes)\n",
    "    verification_key = ecdsa.VerifyingKey.from_string(ecdsa.SigningKey.from_string(private_key, curve=SECP256k1).get_verifying_key().to_string(), curve=SECP256k1)\n",
    "    if not verification_key.verify_digest(signature, transaction_hash, sigdecode=ecdsa.util.sigdecode_der):\n",
    "        raise ValueError(\"Signature verification failed.\")\n",
    "\n",
    "    # Return the signature as bytes\n",
    "    return signature\n",
    "\n",
    "def double_sha256(data):\n",
    "    return hashlib.sha256(hashlib.sha256(data).digest()).digest()\n",
    "\n",
    "# Example Usage\n",
    "private_key_hex = \"26F85CE8B2C635AD92F6148E4443FE415F512F3F29F44AB0E2CBDA819295BBD5\"  # Replace with your actual private key in hexadecimal format\n",
    "unsigned_transaction_hex = \"0200000099197e88ff743aff3e453e3a7b745abd31937ccbd56f96a179266eba786833e682a7d5bb59fc957ff7f737ca0b8be713c705d6173783ad5edb067819bed70be89cb872539fbe1bc0b9c5562195095f3f35e6e13919259956c6263c9bd53b20b7010000001976a914594c2e3da92d1904f7e7c856220f8cae5efb556488ac5424000000000000fffffffff3ae23c3fd63a2e0479888f95c7a8ab221b20add6ac819e9d8953edd1a0cd9240000000001000000\"\n",
    "\n",
    "private_key = bytes.fromhex(private_key_hex)\n",
    "signature = sign_transaction(private_key, unsigned_transaction_hex)\n",
    "print(\"Code from chatGPT :\", signature.hex())\n"
   ]
  },
  {
   "cell_type": "code",
   "execution_count": 72,
   "id": "a1d48be3",
   "metadata": {},
   "outputs": [
    {
     "name": "stdout",
     "output_type": "stream",
     "text": [
      "Code from the internet and then encoded by chatGPT : 302202201b68854b376516bca9d8f342d1f33b09dc0e4acc8c41d3cdf2345a4352bcd8c7022167763fd346723ca063bfee413fbc10f9b074fda1666f0839f9f202b83a57c3a416\n"
     ]
    }
   ],
   "source": [
    "print('Code from the internet and then encoded by chatGPT : 302202201b68854b376516bca9d8f342d1f33b09dc0e4acc8c41d3cdf2345a4352bcd8c7022167763fd346723ca063bfee413fbc10f9b074fda1666f0839f9f202b83a57c3a416')"
   ]
  },
  {
   "cell_type": "code",
   "execution_count": 73,
   "id": "bf5a875f",
   "metadata": {},
   "outputs": [
    {
     "name": "stdout",
     "output_type": "stream",
     "text": [
      "Actual sig : 3045022100f8dac321b0429798df2952d086e763dd5b374d031c7f400d92370ae3c5f57afd0220531207b28b1b137573941c7b3cf5384a3658ef5fc238d26150d8f75b2bcc61e701\n"
     ]
    }
   ],
   "source": [
    "print('Actual sig : 3045022100f8dac321b0429798df2952d086e763dd5b374d031c7f400d92370ae3c5f57afd0220531207b28b1b137573941c7b3cf5384a3658ef5fc238d26150d8f75b2bcc61e701')"
   ]
  },
  {
   "cell_type": "code",
   "execution_count": null,
   "id": "d90fb0ec",
   "metadata": {},
   "outputs": [],
   "source": [
    "'30450221008ba66acb7ea0cb94d04eb2f0291b141cd705f5faea85d04208cf546b6df8f2a702203df05587ccab303cb44a8f717f5486cb77b52d576b3cf9dbfeedb97a5be80cae' == "
   ]
  },
  {
   "cell_type": "code",
   "execution_count": 75,
   "id": "0da1916b",
   "metadata": {},
   "outputs": [
    {
     "ename": "TypeError",
     "evalue": "'bytes' object is not callable",
     "output_type": "error",
     "traceback": [
      "\u001b[1;31m---------------------------------------------------------------------------\u001b[0m",
      "\u001b[1;31mTypeError\u001b[0m                                 Traceback (most recent call last)",
      "\u001b[1;32m~\\AppData\\Local\\Temp\\ipykernel_23672\\3261874938.py\u001b[0m in \u001b[0;36m<module>\u001b[1;34m\u001b[0m\n\u001b[0;32m     33\u001b[0m \u001b[0munsigned_transaction_hex\u001b[0m \u001b[1;33m=\u001b[0m \u001b[1;34m\"0200000099197e88ff743aff3e453e3a7b745abd31937ccbd56f96a179266eba786833e682a7d5bb59fc957ff7f737ca0b8be713c705d6173783ad5edb067819bed70be89cb872539fbe1bc0b9c5562195095f3f35e6e13919259956c6263c9bd53b20b7010000001976a914594c2e3da92d1904f7e7c856220f8cae5efb556488ac5424000000000000fffffffff3ae23c3fd63a2e0479888f95c7a8ab221b20add6ac819e9d8953edd1a0cd9240000000001000000\"\u001b[0m\u001b[1;33m\u001b[0m\u001b[1;33m\u001b[0m\u001b[0m\n\u001b[0;32m     34\u001b[0m \u001b[1;33m\u001b[0m\u001b[0m\n\u001b[1;32m---> 35\u001b[1;33m \u001b[0msignature\u001b[0m \u001b[1;33m=\u001b[0m \u001b[0mdeterministic_sign\u001b[0m\u001b[1;33m(\u001b[0m\u001b[0mprivate_key_hex\u001b[0m\u001b[1;33m,\u001b[0m \u001b[0munsigned_transaction_hex\u001b[0m\u001b[1;33m)\u001b[0m\u001b[1;33m\u001b[0m\u001b[1;33m\u001b[0m\u001b[0m\n\u001b[0m\u001b[0;32m     36\u001b[0m \u001b[0mprint\u001b[0m\u001b[1;33m(\u001b[0m\u001b[1;34m\"Deterministic ECDSA Signature:\"\u001b[0m\u001b[1;33m,\u001b[0m \u001b[0msignature\u001b[0m\u001b[1;33m.\u001b[0m\u001b[0mhex\u001b[0m\u001b[1;33m(\u001b[0m\u001b[1;33m)\u001b[0m\u001b[1;33m)\u001b[0m\u001b[1;33m\u001b[0m\u001b[1;33m\u001b[0m\u001b[0m\n",
      "\u001b[1;32m~\\AppData\\Local\\Temp\\ipykernel_23672\\3261874938.py\u001b[0m in \u001b[0;36mdeterministic_sign\u001b[1;34m(private_key_hex, unsigned_transaction_hex)\u001b[0m\n\u001b[0;32m     18\u001b[0m \u001b[1;33m\u001b[0m\u001b[0m\n\u001b[0;32m     19\u001b[0m     \u001b[1;31m# RFC 6979 deterministic k generation using HMAC-SHA256\u001b[0m\u001b[1;33m\u001b[0m\u001b[1;33m\u001b[0m\u001b[0m\n\u001b[1;32m---> 20\u001b[1;33m     \u001b[0mdeterministic_k\u001b[0m \u001b[1;33m=\u001b[0m \u001b[0mecdsa\u001b[0m\u001b[1;33m.\u001b[0m\u001b[0mrfc6979\u001b[0m\u001b[1;33m.\u001b[0m\u001b[0mgenerate_k\u001b[0m\u001b[1;33m(\u001b[0m\u001b[0msigning_key\u001b[0m\u001b[1;33m.\u001b[0m\u001b[0mcurve\u001b[0m\u001b[1;33m.\u001b[0m\u001b[0morder\u001b[0m\u001b[1;33m,\u001b[0m \u001b[0msigning_key\u001b[0m\u001b[1;33m.\u001b[0m\u001b[0mprivkey\u001b[0m\u001b[1;33m.\u001b[0m\u001b[0msecret_multiplier\u001b[0m\u001b[1;33m,\u001b[0m \u001b[0mtransaction_hash\u001b[0m\u001b[1;33m,\u001b[0m \u001b[0mhashlib\u001b[0m\u001b[1;33m.\u001b[0m\u001b[0msha256\u001b[0m\u001b[1;33m)\u001b[0m\u001b[1;33m\u001b[0m\u001b[1;33m\u001b[0m\u001b[0m\n\u001b[0m\u001b[0;32m     21\u001b[0m \u001b[1;33m\u001b[0m\u001b[0m\n\u001b[0;32m     22\u001b[0m     \u001b[1;31m# Sign the hash using the deterministic k\u001b[0m\u001b[1;33m\u001b[0m\u001b[1;33m\u001b[0m\u001b[0m\n",
      "\u001b[1;32m~\\anaconda3\\lib\\site-packages\\ecdsa\\rfc6979.py\u001b[0m in \u001b[0;36mgenerate_k\u001b[1;34m(order, secexp, hash_func, data, retry_gen, extra_entropy)\u001b[0m\n\u001b[0;32m     57\u001b[0m \u001b[1;33m\u001b[0m\u001b[0m\n\u001b[0;32m     58\u001b[0m     \u001b[0mqlen\u001b[0m \u001b[1;33m=\u001b[0m \u001b[0mbit_length\u001b[0m\u001b[1;33m(\u001b[0m\u001b[0morder\u001b[0m\u001b[1;33m)\u001b[0m\u001b[1;33m\u001b[0m\u001b[1;33m\u001b[0m\u001b[0m\n\u001b[1;32m---> 59\u001b[1;33m     \u001b[0mholen\u001b[0m \u001b[1;33m=\u001b[0m \u001b[0mhash_func\u001b[0m\u001b[1;33m(\u001b[0m\u001b[1;33m)\u001b[0m\u001b[1;33m.\u001b[0m\u001b[0mdigest_size\u001b[0m\u001b[1;33m\u001b[0m\u001b[1;33m\u001b[0m\u001b[0m\n\u001b[0m\u001b[0;32m     60\u001b[0m     \u001b[0mrolen\u001b[0m \u001b[1;33m=\u001b[0m \u001b[1;33m(\u001b[0m\u001b[0mqlen\u001b[0m \u001b[1;33m+\u001b[0m \u001b[1;36m7\u001b[0m\u001b[1;33m)\u001b[0m \u001b[1;33m//\u001b[0m \u001b[1;36m8\u001b[0m\u001b[1;33m\u001b[0m\u001b[1;33m\u001b[0m\u001b[0m\n\u001b[0;32m     61\u001b[0m     bx = (\n",
      "\u001b[1;31mTypeError\u001b[0m: 'bytes' object is not callable"
     ]
    }
   ],
   "source": [
    "import ecdsa\n",
    "from ecdsa import SECP256k1\n",
    "import hashlib\n",
    "import hmac\n",
    "\n",
    "def deterministic_sign(private_key_hex, unsigned_transaction_hex):\n",
    "    # Deserialize the unsigned transaction hex\n",
    "    unsigned_transaction_bytes = bytes.fromhex(unsigned_transaction_hex)\n",
    "\n",
    "    # Hash the transaction\n",
    "    transaction_hash = double_sha256(unsigned_transaction_bytes)\n",
    "\n",
    "    # Convert private key to bytes\n",
    "    private_key = bytes.fromhex(private_key_hex)\n",
    "\n",
    "    # Create an ECDSA private key\n",
    "    signing_key = ecdsa.SigningKey.from_string(private_key, curve=SECP256k1)\n",
    "\n",
    "    # RFC 6979 deterministic k generation using HMAC-SHA256\n",
    "    deterministic_k = ecdsa.rfc6979.generate_k(signing_key.curve.order, signing_key.privkey.secret_multiplier, transaction_hash, hashlib.sha256)\n",
    "\n",
    "    # Sign the hash using the deterministic k\n",
    "    signature = signing_key.sign_digest_deterministic(transaction_hash, hashfunc=hashlib.sha256, sigencode=ecdsa.util.sigencode_der, k=deterministic_k)\n",
    "\n",
    "    # Return the signature as bytes\n",
    "    return signature\n",
    "\n",
    "def double_sha256(data):\n",
    "    return hashlib.sha256(hashlib.sha256(data).digest()).digest()\n",
    "\n",
    "# Example Usage\n",
    "private_key_hex = \"26F85CE8B2C635AD92F6148E4443FE415F512F3F29F44AB0E2CBDA819295BBD5\"\n",
    "unsigned_transaction_hex = \"0200000099197e88ff743aff3e453e3a7b745abd31937ccbd56f96a179266eba786833e682a7d5bb59fc957ff7f737ca0b8be713c705d6173783ad5edb067819bed70be89cb872539fbe1bc0b9c5562195095f3f35e6e13919259956c6263c9bd53b20b7010000001976a914594c2e3da92d1904f7e7c856220f8cae5efb556488ac5424000000000000fffffffff3ae23c3fd63a2e0479888f95c7a8ab221b20add6ac819e9d8953edd1a0cd9240000000001000000\"\n",
    "\n",
    "signature = deterministic_sign(private_key_hex, unsigned_transaction_hex)\n",
    "print(\"Deterministic ECDSA Signature:\", signature.hex())\n"
   ]
  },
  {
   "cell_type": "code",
   "execution_count": null,
   "id": "c5c40648",
   "metadata": {},
   "outputs": [],
   "source": []
  }
 ],
 "metadata": {
  "kernelspec": {
   "display_name": "Python 3 (ipykernel)",
   "language": "python",
   "name": "python3"
  },
  "language_info": {
   "codemirror_mode": {
    "name": "ipython",
    "version": 3
   },
   "file_extension": ".py",
   "mimetype": "text/x-python",
   "name": "python",
   "nbconvert_exporter": "python",
   "pygments_lexer": "ipython3",
   "version": "3.9.13"
  }
 },
 "nbformat": 4,
 "nbformat_minor": 5
}
